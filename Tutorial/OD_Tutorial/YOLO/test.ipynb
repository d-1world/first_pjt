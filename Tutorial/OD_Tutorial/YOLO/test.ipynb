{
 "cells": [
  {
   "cell_type": "code",
   "execution_count": 1,
   "id": "ebfb6d0e",
   "metadata": {},
   "outputs": [
    {
     "name": "stdout",
     "output_type": "stream",
     "text": [
      "JSONDict(\"/home/juntae02/.config/Ultralytics/settings.json\"):\n",
      "{\n",
      "  \"settings_version\": \"0.0.6\",\n",
      "  \"datasets_dir\": \"/home/juntae02/ros2_ws/src/first_pjt/Tutorial/OD_Tutorial/datasets\",\n",
      "  \"weights_dir\": \"weights\",\n",
      "  \"runs_dir\": \"runs\",\n",
      "  \"uuid\": \"581f2bb8b229fc6529765bdd314110bfc2c7b987e49b97f2f36ae3fe2b2ff635\",\n",
      "  \"sync\": true,\n",
      "  \"api_key\": \"\",\n",
      "  \"openai_api_key\": \"\",\n",
      "  \"clearml\": true,\n",
      "  \"comet\": true,\n",
      "  \"dvc\": true,\n",
      "  \"hub\": true,\n",
      "  \"mlflow\": true,\n",
      "  \"neptune\": true,\n",
      "  \"raytune\": true,\n",
      "  \"tensorboard\": false,\n",
      "  \"wandb\": false,\n",
      "  \"vscode_msg\": true\n",
      "}\n"
     ]
    }
   ],
   "source": [
    "from ultralytics import settings\n",
    "\n",
    "# View all settings\n",
    "print(settings)"
   ]
  },
  {
   "cell_type": "code",
   "execution_count": 4,
   "id": "cb73cf67",
   "metadata": {},
   "outputs": [
    {
     "name": "stdout",
     "output_type": "stream",
     "text": [
      "/home/juntae02/ros2_ws/src/first_pjt/Tutorial/OD_Tutorial/datasets\n"
     ]
    }
   ],
   "source": [
    "from ultralytics import settings\n",
    "\n",
    "settings.update({\"datasets_dir\": \"/home/juntae02/ros2_ws/src/first_pjt/Tutorial/OD_Tutorial/datasets\"})\n",
    "\n",
    "# Check if the setting was updated\n",
    "print(settings[\"datasets_dir\"])"
   ]
  },
  {
   "cell_type": "code",
   "execution_count": null,
   "id": "45c4d511",
   "metadata": {},
   "outputs": [],
   "source": [
    "settings.reset()"
   ]
  },
  {
   "cell_type": "code",
   "execution_count": null,
   "id": "fae6b6e3",
   "metadata": {},
   "outputs": [],
   "source": []
  }
 ],
 "metadata": {
  "kernelspec": {
   "display_name": "Python 3",
   "language": "python",
   "name": "python3"
  },
  "language_info": {
   "codemirror_mode": {
    "name": "ipython",
    "version": 3
   },
   "file_extension": ".py",
   "mimetype": "text/x-python",
   "name": "python",
   "nbconvert_exporter": "python",
   "pygments_lexer": "ipython3",
   "version": "3.10.12"
  }
 },
 "nbformat": 4,
 "nbformat_minor": 5
}
