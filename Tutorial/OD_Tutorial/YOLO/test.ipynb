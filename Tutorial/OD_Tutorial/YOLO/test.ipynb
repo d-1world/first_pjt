{
 "cells": [
  {
   "cell_type": "code",
   "execution_count": 1,
   "metadata": {},
   "outputs": [
    {
     "name": "stdout",
     "output_type": "stream",
     "text": [
      "JSONDict(\"/home/kim/.config/Ultralytics/settings.json\"):\n",
      "{\n",
      "  \"settings_version\": \"0.0.6\",\n",
      "  \"datasets_dir\": \"/home/kim/rokey_ws/src/yolov8_ros/yolov8_ros /datasets\",\n",
      "  \"weights_dir\": \"weights\",\n",
      "  \"runs_dir\": \"runs\",\n",
      "  \"uuid\": \"868db86d63527ff26ffa864501a8f31ca6d30daba9a0dd32c6740d30400e5251\",\n",
      "  \"sync\": true,\n",
      "  \"api_key\": \"\",\n",
      "  \"openai_api_key\": \"\",\n",
      "  \"clearml\": true,\n",
      "  \"comet\": true,\n",
      "  \"dvc\": true,\n",
      "  \"hub\": true,\n",
      "  \"mlflow\": true,\n",
      "  \"neptune\": true,\n",
      "  \"raytune\": true,\n",
      "  \"tensorboard\": false,\n",
      "  \"wandb\": false,\n",
      "  \"vscode_msg\": true\n",
      "}\n"
     ]
    }
   ],
   "source": [
    "from ultralytics import settings\n",
    "print(settings)"
   ]
  },
  {
   "cell_type": "code",
   "execution_count": 6,
   "metadata": {},
   "outputs": [
    {
     "name": "stdout",
     "output_type": "stream",
     "text": [
      "/home/kim/rokey_ws/src/first_pjt/Tutorial/OD_Tutorial/datasets\n"
     ]
    }
   ],
   "source": [
    "from ultralytics import settings\n",
    "\n",
    "settings.update({\"datasets_dir\": \"/home/kim/rokey_ws/src/first_pjt/Tutorial/OD_Tutorial/datasets\"})\n",
    "print(settings[\"datasets_dir\"])"
   ]
  },
  {
   "cell_type": "code",
   "execution_count": 8,
   "metadata": {},
   "outputs": [
    {
     "name": "stdout",
     "output_type": "stream",
     "text": [
      "New https://pypi.org/project/ultralytics/8.3.152 available 😃 Update with 'pip install -U ultralytics'\n",
      "Ultralytics 8.3.131 🚀 Python-3.10.12 torch-2.1.0+cu121 CPU (13th Gen Intel Core(TM) i5-1335U)\n",
      "\u001b[34m\u001b[1mengine/trainer: \u001b[0magnostic_nms=False, amp=True, augment=False, auto_augment=randaugment, batch=16, bgr=0.0, box=7.5, cache=False, cfg=None, classes=None, close_mosaic=10, cls=0.5, conf=None, copy_paste=0.0, copy_paste_mode=flip, cos_lr=False, cutmix=0.0, data=/home/kim/rokey_ws/src/first_pjt/Tutorial/OD_Tutorial/datasets/data.yaml, degrees=0.0, deterministic=True, device=cpu, dfl=1.5, dnn=False, dropout=0.0, dynamic=False, embed=None, epochs=10, erasing=0.4, exist_ok=False, fliplr=0.5, flipud=0.0, format=torchscript, fraction=1.0, freeze=None, half=False, hsv_h=0.015, hsv_s=0.7, hsv_v=0.4, imgsz=640, int8=False, iou=0.7, keras=False, kobj=1.0, line_width=None, lr0=0.01, lrf=0.01, mask_ratio=4, max_det=300, mixup=0.0, mode=train, model=yolo11n.pt, momentum=0.937, mosaic=1.0, multi_scale=False, name=train2, nbs=64, nms=False, opset=None, optimize=False, optimizer=auto, overlap_mask=True, patience=100, perspective=0.0, plots=True, pose=12.0, pretrained=True, profile=False, project=None, rect=False, resume=False, retina_masks=False, save=True, save_conf=False, save_crop=False, save_dir=runs/detect/train2, save_frames=False, save_json=False, save_period=-1, save_txt=False, scale=0.5, seed=0, shear=0.0, show=False, show_boxes=True, show_conf=True, show_labels=True, simplify=True, single_cls=False, source=None, split=val, stream_buffer=False, task=detect, time=None, tracker=botsort.yaml, translate=0.1, val=True, verbose=True, vid_stride=1, visualize=False, warmup_bias_lr=0.1, warmup_epochs=3.0, warmup_momentum=0.8, weight_decay=0.0005, workers=8, workspace=None\n",
      "Downloading https://ultralytics.com/assets/Arial.ttf to '/home/kim/.config/Ultralytics/Arial.ttf'...\n"
     ]
    },
    {
     "name": "stderr",
     "output_type": "stream",
     "text": [
      "100%|██████████| 755k/755k [00:00<00:00, 15.1MB/s]"
     ]
    },
    {
     "name": "stdout",
     "output_type": "stream",
     "text": [
      "Overriding model.yaml nc=80 with nc=2\n",
      "\n",
      "                   from  n    params  module                                       arguments                     \n",
      "  0                  -1  1       464  ultralytics.nn.modules.conv.Conv             [3, 16, 3, 2]                 \n",
      "  1                  -1  1      4672  ultralytics.nn.modules.conv.Conv             [16, 32, 3, 2]                \n",
      "  2                  -1  1      6640  ultralytics.nn.modules.block.C3k2            [32, 64, 1, False, 0.25]      \n",
      "  3                  -1  1     36992  ultralytics.nn.modules.conv.Conv             [64, 64, 3, 2]                \n",
      "  4                  -1  1     26080  ultralytics.nn.modules.block.C3k2            [64, 128, 1, False, 0.25]     \n",
      "  5                  -1  1    147712  ultralytics.nn.modules.conv.Conv             [128, 128, 3, 2]              \n",
      "  6                  -1  1     87040  ultralytics.nn.modules.block.C3k2            [128, 128, 1, True]           \n",
      "  7                  -1  1    295424  ultralytics.nn.modules.conv.Conv             [128, 256, 3, 2]              \n",
      "  8                  -1  1    346112  ultralytics.nn.modules.block.C3k2            [256, 256, 1, True]           \n",
      "  9                  -1  1    164608  ultralytics.nn.modules.block.SPPF            [256, 256, 5]                 \n",
      " 10                  -1  1    249728  ultralytics.nn.modules.block.C2PSA           [256, 256, 1]                 \n",
      " 11                  -1  1         0  torch.nn.modules.upsampling.Upsample         [None, 2, 'nearest']          \n",
      " 12             [-1, 6]  1         0  ultralytics.nn.modules.conv.Concat           [1]                           \n"
     ]
    },
    {
     "name": "stderr",
     "output_type": "stream",
     "text": [
      "\n"
     ]
    },
    {
     "name": "stdout",
     "output_type": "stream",
     "text": [
      " 13                  -1  1    111296  ultralytics.nn.modules.block.C3k2            [384, 128, 1, False]          \n",
      " 14                  -1  1         0  torch.nn.modules.upsampling.Upsample         [None, 2, 'nearest']          \n",
      " 15             [-1, 4]  1         0  ultralytics.nn.modules.conv.Concat           [1]                           \n",
      " 16                  -1  1     32096  ultralytics.nn.modules.block.C3k2            [256, 64, 1, False]           \n",
      " 17                  -1  1     36992  ultralytics.nn.modules.conv.Conv             [64, 64, 3, 2]                \n",
      " 18            [-1, 13]  1         0  ultralytics.nn.modules.conv.Concat           [1]                           \n",
      " 19                  -1  1     86720  ultralytics.nn.modules.block.C3k2            [192, 128, 1, False]          \n",
      " 20                  -1  1    147712  ultralytics.nn.modules.conv.Conv             [128, 128, 3, 2]              \n",
      " 21            [-1, 10]  1         0  ultralytics.nn.modules.conv.Concat           [1]                           \n",
      " 22                  -1  1    378880  ultralytics.nn.modules.block.C3k2            [384, 256, 1, True]           \n",
      " 23        [16, 19, 22]  1    431062  ultralytics.nn.modules.head.Detect           [2, [64, 128, 256]]           \n",
      "YOLO11n summary: 181 layers, 2,590,230 parameters, 2,590,214 gradients, 6.4 GFLOPs\n",
      "\n",
      "Transferred 448/499 items from pretrained weights\n",
      "Freezing layer 'model.23.dfl.conv.weight'\n",
      "\u001b[34m\u001b[1mtrain: \u001b[0mFast image access ✅ (ping: 0.0±0.0 ms, read: 2921.3±1298.2 MB/s, size: 34.0 KB)\n"
     ]
    },
    {
     "name": "stderr",
     "output_type": "stream",
     "text": [
      "\u001b[34m\u001b[1mtrain: \u001b[0mScanning /home/kim/rokey_ws/src/first_pjt/Tutorial/OD_Tutorial/datasets/train/labels... 498 images, 0 backgrounds, 0 corrupt: 100%|██████████| 498/498 [00:00<00:00, 1245.70it/s]"
     ]
    },
    {
     "name": "stdout",
     "output_type": "stream",
     "text": [
      "\u001b[34m\u001b[1mtrain: \u001b[0mNew cache created: /home/kim/rokey_ws/src/first_pjt/Tutorial/OD_Tutorial/datasets/train/labels.cache\n"
     ]
    },
    {
     "name": "stderr",
     "output_type": "stream",
     "text": [
      "\n"
     ]
    },
    {
     "name": "stdout",
     "output_type": "stream",
     "text": [
      "\u001b[34m\u001b[1mval: \u001b[0mFast image access ✅ (ping: 0.0±0.0 ms, read: 1292.5±704.6 MB/s, size: 50.0 KB)\n"
     ]
    },
    {
     "name": "stderr",
     "output_type": "stream",
     "text": [
      "/home/kim/.local/lib/python3.10/site-packages/torch/cuda/__init__.py:611: UserWarning: Can't initialize NVML\n",
      "  warnings.warn(\"Can't initialize NVML\")\n",
      "\u001b[34m\u001b[1mval: \u001b[0mScanning /home/kim/rokey_ws/src/first_pjt/Tutorial/OD_Tutorial/datasets/valid/labels... 151 images, 0 backgrounds, 0 corrupt: 100%|██████████| 151/151 [00:00<00:00, 1805.61it/s]\n"
     ]
    },
    {
     "name": "stdout",
     "output_type": "stream",
     "text": [
      "\u001b[34m\u001b[1mval: \u001b[0mNew cache created: /home/kim/rokey_ws/src/first_pjt/Tutorial/OD_Tutorial/datasets/valid/labels.cache\n"
     ]
    },
    {
     "name": "stderr",
     "output_type": "stream",
     "text": [
      "/home/kim/.local/lib/python3.10/site-packages/matplotlib/projections/__init__.py:63: UserWarning: Unable to import Axes3D. This may be due to multiple versions of Matplotlib being installed (e.g. as a system package and as a pip package). As a result, the 3D projection is not available.\n",
      "  warnings.warn(\"Unable to import Axes3D. This may be due to multiple versions of \"\n"
     ]
    },
    {
     "name": "stdout",
     "output_type": "stream",
     "text": [
      "Plotting labels to runs/detect/train2/labels.jpg... \n",
      "\u001b[34m\u001b[1moptimizer:\u001b[0m 'optimizer=auto' found, ignoring 'lr0=0.01' and 'momentum=0.937' and determining best 'optimizer', 'lr0' and 'momentum' automatically... \n",
      "\u001b[34m\u001b[1moptimizer:\u001b[0m AdamW(lr=0.001667, momentum=0.9) with parameter groups 81 weight(decay=0.0), 88 weight(decay=0.0005), 87 bias(decay=0.0)\n",
      "Image sizes 640 train, 640 val\n",
      "Using 0 dataloader workers\n",
      "Logging results to \u001b[1mruns/detect/train2\u001b[0m\n",
      "Starting training for 10 epochs...\n",
      "Closing dataloader mosaic\n",
      "\n",
      "      Epoch    GPU_mem   box_loss   cls_loss   dfl_loss  Instances       Size\n"
     ]
    },
    {
     "name": "stderr",
     "output_type": "stream",
     "text": [
      "       1/10         0G     0.6036      2.719      1.172          2        640: 100%|██████████| 32/32 [01:38<00:00,  3.08s/it]\n",
      "                 Class     Images  Instances      Box(P          R      mAP50  mAP50-95): 100%|██████████| 5/5 [00:14<00:00,  2.86s/it]"
     ]
    },
    {
     "name": "stdout",
     "output_type": "stream",
     "text": [
      "                   all        151        193    0.00761       0.99      0.617      0.469\n",
      "\n",
      "      Epoch    GPU_mem   box_loss   cls_loss   dfl_loss  Instances       Size\n"
     ]
    },
    {
     "name": "stderr",
     "output_type": "stream",
     "text": [
      "\n",
      "       2/10         0G     0.7532      1.914      1.287          2        640: 100%|██████████| 32/32 [01:40<00:00,  3.14s/it]\n",
      "                 Class     Images  Instances      Box(P          R      mAP50  mAP50-95): 100%|██████████| 5/5 [00:14<00:00,  2.81s/it]"
     ]
    },
    {
     "name": "stdout",
     "output_type": "stream",
     "text": [
      "                   all        151        193      0.644      0.482      0.618      0.412\n",
      "\n",
      "      Epoch    GPU_mem   box_loss   cls_loss   dfl_loss  Instances       Size\n"
     ]
    },
    {
     "name": "stderr",
     "output_type": "stream",
     "text": [
      "\n",
      "       3/10         0G      0.818      1.723      1.331          2        640: 100%|██████████| 32/32 [01:42<00:00,  3.21s/it]\n",
      "                 Class     Images  Instances      Box(P          R      mAP50  mAP50-95): 100%|██████████| 5/5 [00:14<00:00,  2.90s/it]"
     ]
    },
    {
     "name": "stdout",
     "output_type": "stream",
     "text": [
      "                   all        151        193      0.689      0.606      0.641      0.436\n",
      "\n",
      "      Epoch    GPU_mem   box_loss   cls_loss   dfl_loss  Instances       Size\n"
     ]
    },
    {
     "name": "stderr",
     "output_type": "stream",
     "text": [
      "\n",
      "       4/10         0G     0.7578      1.497      1.276          2        640: 100%|██████████| 32/32 [01:39<00:00,  3.11s/it]\n",
      "                 Class     Images  Instances      Box(P          R      mAP50  mAP50-95): 100%|██████████| 5/5 [00:12<00:00,  2.55s/it]"
     ]
    },
    {
     "name": "stdout",
     "output_type": "stream",
     "text": [
      "                   all        151        193      0.744      0.708      0.762      0.537\n",
      "\n",
      "      Epoch    GPU_mem   box_loss   cls_loss   dfl_loss  Instances       Size\n"
     ]
    },
    {
     "name": "stderr",
     "output_type": "stream",
     "text": [
      "\n",
      "       5/10         0G      0.706      1.342      1.234          2        640: 100%|██████████| 32/32 [01:46<00:00,  3.33s/it]\n",
      "                 Class     Images  Instances      Box(P          R      mAP50  mAP50-95): 100%|██████████| 5/5 [00:13<00:00,  2.70s/it]"
     ]
    },
    {
     "name": "stdout",
     "output_type": "stream",
     "text": [
      "                   all        151        193       0.58      0.593      0.586      0.361\n",
      "\n",
      "      Epoch    GPU_mem   box_loss   cls_loss   dfl_loss  Instances       Size\n"
     ]
    },
    {
     "name": "stderr",
     "output_type": "stream",
     "text": [
      "\n",
      "       6/10         0G     0.7042      1.281      1.248          2        640: 100%|██████████| 32/32 [01:42<00:00,  3.19s/it]\n",
      "                 Class     Images  Instances      Box(P          R      mAP50  mAP50-95): 100%|██████████| 5/5 [00:11<00:00,  2.39s/it]"
     ]
    },
    {
     "name": "stdout",
     "output_type": "stream",
     "text": [
      "                   all        151        193      0.821      0.813       0.87      0.633\n",
      "\n",
      "      Epoch    GPU_mem   box_loss   cls_loss   dfl_loss  Instances       Size\n"
     ]
    },
    {
     "name": "stderr",
     "output_type": "stream",
     "text": [
      "\n",
      "       7/10         0G     0.6458      1.095      1.174          2        640: 100%|██████████| 32/32 [01:45<00:00,  3.29s/it]\n",
      "                 Class     Images  Instances      Box(P          R      mAP50  mAP50-95): 100%|██████████| 5/5 [00:12<00:00,  2.54s/it]"
     ]
    },
    {
     "name": "stdout",
     "output_type": "stream",
     "text": [
      "                   all        151        193      0.882      0.855       0.91      0.703\n",
      "\n",
      "      Epoch    GPU_mem   box_loss   cls_loss   dfl_loss  Instances       Size\n"
     ]
    },
    {
     "name": "stderr",
     "output_type": "stream",
     "text": [
      "\n",
      "       8/10         0G     0.5878     0.9872      1.115          2        640: 100%|██████████| 32/32 [01:44<00:00,  3.27s/it]\n",
      "                 Class     Images  Instances      Box(P          R      mAP50  mAP50-95): 100%|██████████| 5/5 [00:12<00:00,  2.41s/it]"
     ]
    },
    {
     "name": "stdout",
     "output_type": "stream",
     "text": [
      "                   all        151        193      0.915      0.832      0.916      0.733\n"
     ]
    },
    {
     "name": "stderr",
     "output_type": "stream",
     "text": [
      "\n"
     ]
    },
    {
     "name": "stdout",
     "output_type": "stream",
     "text": [
      "\n",
      "      Epoch    GPU_mem   box_loss   cls_loss   dfl_loss  Instances       Size\n"
     ]
    },
    {
     "name": "stderr",
     "output_type": "stream",
     "text": [
      "       9/10         0G     0.5461      0.889      1.097          2        640: 100%|██████████| 32/32 [01:42<00:00,  3.19s/it]\n",
      "                 Class     Images  Instances      Box(P          R      mAP50  mAP50-95): 100%|██████████| 5/5 [00:12<00:00,  2.46s/it]"
     ]
    },
    {
     "name": "stdout",
     "output_type": "stream",
     "text": [
      "                   all        151        193      0.932      0.848      0.936      0.757\n"
     ]
    },
    {
     "name": "stderr",
     "output_type": "stream",
     "text": [
      "\n"
     ]
    },
    {
     "name": "stdout",
     "output_type": "stream",
     "text": [
      "\n",
      "      Epoch    GPU_mem   box_loss   cls_loss   dfl_loss  Instances       Size\n"
     ]
    },
    {
     "name": "stderr",
     "output_type": "stream",
     "text": [
      "      10/10         0G     0.4835      0.807      1.044          2        640: 100%|██████████| 32/32 [01:47<00:00,  3.35s/it]\n",
      "                 Class     Images  Instances      Box(P          R      mAP50  mAP50-95): 100%|██████████| 5/5 [00:11<00:00,  2.32s/it]"
     ]
    },
    {
     "name": "stdout",
     "output_type": "stream",
     "text": [
      "                   all        151        193      0.943      0.853      0.934      0.776\n",
      "\n",
      "10 epochs completed in 0.323 hours.\n",
      "Optimizer stripped from runs/detect/train2/weights/last.pt, 5.5MB\n"
     ]
    },
    {
     "name": "stderr",
     "output_type": "stream",
     "text": [
      "\n"
     ]
    },
    {
     "name": "stdout",
     "output_type": "stream",
     "text": [
      "Optimizer stripped from runs/detect/train2/weights/best.pt, 5.5MB\n",
      "\n",
      "Validating runs/detect/train2/weights/best.pt...\n",
      "Ultralytics 8.3.131 🚀 Python-3.10.12 torch-2.1.0+cu121 CPU (13th Gen Intel Core(TM) i5-1335U)\n",
      "YOLO11n summary (fused): 100 layers, 2,582,542 parameters, 0 gradients, 6.3 GFLOPs\n"
     ]
    },
    {
     "name": "stderr",
     "output_type": "stream",
     "text": [
      "                 Class     Images  Instances      Box(P          R      mAP50  mAP50-95): 100%|██████████| 5/5 [00:10<00:00,  2.07s/it]\n"
     ]
    },
    {
     "name": "stdout",
     "output_type": "stream",
     "text": [
      "                   all        151        193      0.943      0.853      0.935      0.776\n",
      "             metal-can        151        193      0.943      0.853      0.935      0.776\n",
      "Speed: 1.2ms preprocess, 61.8ms inference, 0.0ms loss, 1.3ms postprocess per image\n",
      "Results saved to \u001b[1mruns/detect/train2\u001b[0m\n"
     ]
    },
    {
     "data": {
      "text/plain": [
       "ultralytics.utils.metrics.DetMetrics object with attributes:\n",
       "\n",
       "ap_class_index: array([1])\n",
       "box: ultralytics.utils.metrics.Metric object\n",
       "confusion_matrix: <ultralytics.utils.metrics.ConfusionMatrix object at 0x7ef22fd347f0>\n",
       "curves: ['Precision-Recall(B)', 'F1-Confidence(B)', 'Precision-Confidence(B)', 'Recall-Confidence(B)']\n",
       "curves_results: [[array([          0,    0.001001,    0.002002,    0.003003,    0.004004,    0.005005,    0.006006,    0.007007,    0.008008,    0.009009,     0.01001,    0.011011,    0.012012,    0.013013,    0.014014,    0.015015,    0.016016,    0.017017,    0.018018,    0.019019,     0.02002,    0.021021,    0.022022,    0.023023,\n",
       "          0.024024,    0.025025,    0.026026,    0.027027,    0.028028,    0.029029,     0.03003,    0.031031,    0.032032,    0.033033,    0.034034,    0.035035,    0.036036,    0.037037,    0.038038,    0.039039,     0.04004,    0.041041,    0.042042,    0.043043,    0.044044,    0.045045,    0.046046,    0.047047,\n",
       "          0.048048,    0.049049,     0.05005,    0.051051,    0.052052,    0.053053,    0.054054,    0.055055,    0.056056,    0.057057,    0.058058,    0.059059,     0.06006,    0.061061,    0.062062,    0.063063,    0.064064,    0.065065,    0.066066,    0.067067,    0.068068,    0.069069,     0.07007,    0.071071,\n",
       "          0.072072,    0.073073,    0.074074,    0.075075,    0.076076,    0.077077,    0.078078,    0.079079,     0.08008,    0.081081,    0.082082,    0.083083,    0.084084,    0.085085,    0.086086,    0.087087,    0.088088,    0.089089,     0.09009,    0.091091,    0.092092,    0.093093,    0.094094,    0.095095,\n",
       "          0.096096,    0.097097,    0.098098,    0.099099,      0.1001,      0.1011,      0.1021,      0.1031,      0.1041,     0.10511,     0.10611,     0.10711,     0.10811,     0.10911,     0.11011,     0.11111,     0.11211,     0.11311,     0.11411,     0.11512,     0.11612,     0.11712,     0.11812,     0.11912,\n",
       "           0.12012,     0.12112,     0.12212,     0.12312,     0.12412,     0.12513,     0.12613,     0.12713,     0.12813,     0.12913,     0.13013,     0.13113,     0.13213,     0.13313,     0.13413,     0.13514,     0.13614,     0.13714,     0.13814,     0.13914,     0.14014,     0.14114,     0.14214,     0.14314,\n",
       "           0.14414,     0.14515,     0.14615,     0.14715,     0.14815,     0.14915,     0.15015,     0.15115,     0.15215,     0.15315,     0.15415,     0.15516,     0.15616,     0.15716,     0.15816,     0.15916,     0.16016,     0.16116,     0.16216,     0.16316,     0.16416,     0.16517,     0.16617,     0.16717,\n",
       "           0.16817,     0.16917,     0.17017,     0.17117,     0.17217,     0.17317,     0.17417,     0.17518,     0.17618,     0.17718,     0.17818,     0.17918,     0.18018,     0.18118,     0.18218,     0.18318,     0.18418,     0.18519,     0.18619,     0.18719,     0.18819,     0.18919,     0.19019,     0.19119,\n",
       "           0.19219,     0.19319,     0.19419,      0.1952,      0.1962,      0.1972,      0.1982,      0.1992,      0.2002,      0.2012,      0.2022,      0.2032,      0.2042,     0.20521,     0.20621,     0.20721,     0.20821,     0.20921,     0.21021,     0.21121,     0.21221,     0.21321,     0.21421,     0.21522,\n",
       "           0.21622,     0.21722,     0.21822,     0.21922,     0.22022,     0.22122,     0.22222,     0.22322,     0.22422,     0.22523,     0.22623,     0.22723,     0.22823,     0.22923,     0.23023,     0.23123,     0.23223,     0.23323,     0.23423,     0.23524,     0.23624,     0.23724,     0.23824,     0.23924,\n",
       "           0.24024,     0.24124,     0.24224,     0.24324,     0.24424,     0.24525,     0.24625,     0.24725,     0.24825,     0.24925,     0.25025,     0.25125,     0.25225,     0.25325,     0.25425,     0.25526,     0.25626,     0.25726,     0.25826,     0.25926,     0.26026,     0.26126,     0.26226,     0.26326,\n",
       "           0.26426,     0.26527,     0.26627,     0.26727,     0.26827,     0.26927,     0.27027,     0.27127,     0.27227,     0.27327,     0.27427,     0.27528,     0.27628,     0.27728,     0.27828,     0.27928,     0.28028,     0.28128,     0.28228,     0.28328,     0.28428,     0.28529,     0.28629,     0.28729,\n",
       "           0.28829,     0.28929,     0.29029,     0.29129,     0.29229,     0.29329,     0.29429,      0.2953,      0.2963,      0.2973,      0.2983,      0.2993,      0.3003,      0.3013,      0.3023,      0.3033,      0.3043,     0.30531,     0.30631,     0.30731,     0.30831,     0.30931,     0.31031,     0.31131,\n",
       "           0.31231,     0.31331,     0.31431,     0.31532,     0.31632,     0.31732,     0.31832,     0.31932,     0.32032,     0.32132,     0.32232,     0.32332,     0.32432,     0.32533,     0.32633,     0.32733,     0.32833,     0.32933,     0.33033,     0.33133,     0.33233,     0.33333,     0.33433,     0.33534,\n",
       "           0.33634,     0.33734,     0.33834,     0.33934,     0.34034,     0.34134,     0.34234,     0.34334,     0.34434,     0.34535,     0.34635,     0.34735,     0.34835,     0.34935,     0.35035,     0.35135,     0.35235,     0.35335,     0.35435,     0.35536,     0.35636,     0.35736,     0.35836,     0.35936,\n",
       "           0.36036,     0.36136,     0.36236,     0.36336,     0.36436,     0.36537,     0.36637,     0.36737,     0.36837,     0.36937,     0.37037,     0.37137,     0.37237,     0.37337,     0.37437,     0.37538,     0.37638,     0.37738,     0.37838,     0.37938,     0.38038,     0.38138,     0.38238,     0.38338,\n",
       "           0.38438,     0.38539,     0.38639,     0.38739,     0.38839,     0.38939,     0.39039,     0.39139,     0.39239,     0.39339,     0.39439,      0.3954,      0.3964,      0.3974,      0.3984,      0.3994,      0.4004,      0.4014,      0.4024,      0.4034,      0.4044,     0.40541,     0.40641,     0.40741,\n",
       "           0.40841,     0.40941,     0.41041,     0.41141,     0.41241,     0.41341,     0.41441,     0.41542,     0.41642,     0.41742,     0.41842,     0.41942,     0.42042,     0.42142,     0.42242,     0.42342,     0.42442,     0.42543,     0.42643,     0.42743,     0.42843,     0.42943,     0.43043,     0.43143,\n",
       "           0.43243,     0.43343,     0.43443,     0.43544,     0.43644,     0.43744,     0.43844,     0.43944,     0.44044,     0.44144,     0.44244,     0.44344,     0.44444,     0.44545,     0.44645,     0.44745,     0.44845,     0.44945,     0.45045,     0.45145,     0.45245,     0.45345,     0.45445,     0.45546,\n",
       "           0.45646,     0.45746,     0.45846,     0.45946,     0.46046,     0.46146,     0.46246,     0.46346,     0.46446,     0.46547,     0.46647,     0.46747,     0.46847,     0.46947,     0.47047,     0.47147,     0.47247,     0.47347,     0.47447,     0.47548,     0.47648,     0.47748,     0.47848,     0.47948,\n",
       "           0.48048,     0.48148,     0.48248,     0.48348,     0.48448,     0.48549,     0.48649,     0.48749,     0.48849,     0.48949,     0.49049,     0.49149,     0.49249,     0.49349,     0.49449,      0.4955,      0.4965,      0.4975,      0.4985,      0.4995,      0.5005,      0.5015,      0.5025,      0.5035,\n",
       "            0.5045,     0.50551,     0.50651,     0.50751,     0.50851,     0.50951,     0.51051,     0.51151,     0.51251,     0.51351,     0.51451,     0.51552,     0.51652,     0.51752,     0.51852,     0.51952,     0.52052,     0.52152,     0.52252,     0.52352,     0.52452,     0.52553,     0.52653,     0.52753,\n",
       "           0.52853,     0.52953,     0.53053,     0.53153,     0.53253,     0.53353,     0.53453,     0.53554,     0.53654,     0.53754,     0.53854,     0.53954,     0.54054,     0.54154,     0.54254,     0.54354,     0.54454,     0.54555,     0.54655,     0.54755,     0.54855,     0.54955,     0.55055,     0.55155,\n",
       "           0.55255,     0.55355,     0.55455,     0.55556,     0.55656,     0.55756,     0.55856,     0.55956,     0.56056,     0.56156,     0.56256,     0.56356,     0.56456,     0.56557,     0.56657,     0.56757,     0.56857,     0.56957,     0.57057,     0.57157,     0.57257,     0.57357,     0.57457,     0.57558,\n",
       "           0.57658,     0.57758,     0.57858,     0.57958,     0.58058,     0.58158,     0.58258,     0.58358,     0.58458,     0.58559,     0.58659,     0.58759,     0.58859,     0.58959,     0.59059,     0.59159,     0.59259,     0.59359,     0.59459,      0.5956,      0.5966,      0.5976,      0.5986,      0.5996,\n",
       "            0.6006,      0.6016,      0.6026,      0.6036,      0.6046,     0.60561,     0.60661,     0.60761,     0.60861,     0.60961,     0.61061,     0.61161,     0.61261,     0.61361,     0.61461,     0.61562,     0.61662,     0.61762,     0.61862,     0.61962,     0.62062,     0.62162,     0.62262,     0.62362,\n",
       "           0.62462,     0.62563,     0.62663,     0.62763,     0.62863,     0.62963,     0.63063,     0.63163,     0.63263,     0.63363,     0.63463,     0.63564,     0.63664,     0.63764,     0.63864,     0.63964,     0.64064,     0.64164,     0.64264,     0.64364,     0.64464,     0.64565,     0.64665,     0.64765,\n",
       "           0.64865,     0.64965,     0.65065,     0.65165,     0.65265,     0.65365,     0.65465,     0.65566,     0.65666,     0.65766,     0.65866,     0.65966,     0.66066,     0.66166,     0.66266,     0.66366,     0.66466,     0.66567,     0.66667,     0.66767,     0.66867,     0.66967,     0.67067,     0.67167,\n",
       "           0.67267,     0.67367,     0.67467,     0.67568,     0.67668,     0.67768,     0.67868,     0.67968,     0.68068,     0.68168,     0.68268,     0.68368,     0.68468,     0.68569,     0.68669,     0.68769,     0.68869,     0.68969,     0.69069,     0.69169,     0.69269,     0.69369,     0.69469,      0.6957,\n",
       "            0.6967,      0.6977,      0.6987,      0.6997,      0.7007,      0.7017,      0.7027,      0.7037,      0.7047,     0.70571,     0.70671,     0.70771,     0.70871,     0.70971,     0.71071,     0.71171,     0.71271,     0.71371,     0.71471,     0.71572,     0.71672,     0.71772,     0.71872,     0.71972,\n",
       "           0.72072,     0.72172,     0.72272,     0.72372,     0.72472,     0.72573,     0.72673,     0.72773,     0.72873,     0.72973,     0.73073,     0.73173,     0.73273,     0.73373,     0.73473,     0.73574,     0.73674,     0.73774,     0.73874,     0.73974,     0.74074,     0.74174,     0.74274,     0.74374,\n",
       "           0.74474,     0.74575,     0.74675,     0.74775,     0.74875,     0.74975,     0.75075,     0.75175,     0.75275,     0.75375,     0.75475,     0.75576,     0.75676,     0.75776,     0.75876,     0.75976,     0.76076,     0.76176,     0.76276,     0.76376,     0.76476,     0.76577,     0.76677,     0.76777,\n",
       "           0.76877,     0.76977,     0.77077,     0.77177,     0.77277,     0.77377,     0.77477,     0.77578,     0.77678,     0.77778,     0.77878,     0.77978,     0.78078,     0.78178,     0.78278,     0.78378,     0.78478,     0.78579,     0.78679,     0.78779,     0.78879,     0.78979,     0.79079,     0.79179,\n",
       "           0.79279,     0.79379,     0.79479,      0.7958,      0.7968,      0.7978,      0.7988,      0.7998,      0.8008,      0.8018,      0.8028,      0.8038,      0.8048,     0.80581,     0.80681,     0.80781,     0.80881,     0.80981,     0.81081,     0.81181,     0.81281,     0.81381,     0.81481,     0.81582,\n",
       "           0.81682,     0.81782,     0.81882,     0.81982,     0.82082,     0.82182,     0.82282,     0.82382,     0.82482,     0.82583,     0.82683,     0.82783,     0.82883,     0.82983,     0.83083,     0.83183,     0.83283,     0.83383,     0.83483,     0.83584,     0.83684,     0.83784,     0.83884,     0.83984,\n",
       "           0.84084,     0.84184,     0.84284,     0.84384,     0.84484,     0.84585,     0.84685,     0.84785,     0.84885,     0.84985,     0.85085,     0.85185,     0.85285,     0.85385,     0.85485,     0.85586,     0.85686,     0.85786,     0.85886,     0.85986,     0.86086,     0.86186,     0.86286,     0.86386,\n",
       "           0.86486,     0.86587,     0.86687,     0.86787,     0.86887,     0.86987,     0.87087,     0.87187,     0.87287,     0.87387,     0.87487,     0.87588,     0.87688,     0.87788,     0.87888,     0.87988,     0.88088,     0.88188,     0.88288,     0.88388,     0.88488,     0.88589,     0.88689,     0.88789,\n",
       "           0.88889,     0.88989,     0.89089,     0.89189,     0.89289,     0.89389,     0.89489,      0.8959,      0.8969,      0.8979,      0.8989,      0.8999,      0.9009,      0.9019,      0.9029,      0.9039,      0.9049,     0.90591,     0.90691,     0.90791,     0.90891,     0.90991,     0.91091,     0.91191,\n",
       "           0.91291,     0.91391,     0.91491,     0.91592,     0.91692,     0.91792,     0.91892,     0.91992,     0.92092,     0.92192,     0.92292,     0.92392,     0.92492,     0.92593,     0.92693,     0.92793,     0.92893,     0.92993,     0.93093,     0.93193,     0.93293,     0.93393,     0.93493,     0.93594,\n",
       "           0.93694,     0.93794,     0.93894,     0.93994,     0.94094,     0.94194,     0.94294,     0.94394,     0.94494,     0.94595,     0.94695,     0.94795,     0.94895,     0.94995,     0.95095,     0.95195,     0.95295,     0.95395,     0.95495,     0.95596,     0.95696,     0.95796,     0.95896,     0.95996,\n",
       "           0.96096,     0.96196,     0.96296,     0.96396,     0.96496,     0.96597,     0.96697,     0.96797,     0.96897,     0.96997,     0.97097,     0.97197,     0.97297,     0.97397,     0.97497,     0.97598,     0.97698,     0.97798,     0.97898,     0.97998,     0.98098,     0.98198,     0.98298,     0.98398,\n",
       "           0.98498,     0.98599,     0.98699,     0.98799,     0.98899,     0.98999,     0.99099,     0.99199,     0.99299,     0.99399,     0.99499,       0.996,       0.997,       0.998,       0.999,           1]), array([[          1,           1,           1,           1,           1,           1,           1,           1,           1,           1,           1,           1,           1,           1,           1,           1,           1,           1,           1,           1,           1,           1,           1,\n",
       "                  1,           1,           1,           1,           1,           1,           1,           1,           1,           1,           1,           1,           1,           1,           1,           1,           1,           1,           1,           1,           1,           1,           1,\n",
       "                  1,           1,           1,           1,           1,           1,           1,           1,           1,           1,           1,           1,           1,           1,           1,           1,           1,           1,           1,           1,           1,           1,           1,\n",
       "                  1,           1,           1,           1,           1,           1,           1,           1,           1,           1,           1,           1,           1,           1,           1,           1,           1,           1,           1,           1,           1,           1,           1,\n",
       "                  1,           1,           1,           1,           1,           1,           1,           1,           1,           1,           1,           1,           1,           1,           1,           1,           1,           1,           1,           1,           1,           1,           1,\n",
       "                  1,           1,           1,           1,           1,           1,           1,           1,           1,           1,           1,           1,           1,           1,           1,           1,           1,           1,           1,           1,           1,           1,           1,\n",
       "                  1,           1,           1,           1,           1,           1,           1,           1,           1,           1,           1,           1,           1,           1,           1,           1,           1,           1,           1,           1,           1,           1,           1,\n",
       "                  1,           1,           1,           1,           1,           1,           1,           1,           1,           1,           1,           1,           1,           1,           1,           1,           1,           1,           1,           1,           1,           1,           1,\n",
       "                  1,           1,           1,           1,           1,           1,           1,           1,           1,           1,           1,           1,           1,           1,           1,           1,           1,           1,           1,           1,           1,           1,           1,\n",
       "                  1,           1,           1,           1,           1,           1,           1,           1,           1,           1,           1,           1,           1,           1,           1,           1,           1,           1,           1,           1,           1,           1,           1,\n",
       "                  1,           1,           1,           1,           1,           1,           1,           1,           1,           1,           1,           1,           1,           1,           1,           1,           1,           1,           1,           1,           1,           1,           1,\n",
       "                  1,           1,           1,           1,           1,           1,           1,           1,           1,           1,           1,           1,           1,           1,           1,           1,           1,           1,           1,           1,           1,           1,           1,\n",
       "                  1,           1,           1,           1,           1,           1,           1,           1,           1,           1,           1,           1,           1,           1,           1,           1,           1,           1,           1,           1,           1,           1,           1,\n",
       "                  1,           1,           1,           1,           1,           1,           1,           1,           1,           1,           1,           1,           1,           1,           1,           1,           1,           1,           1,           1,           1,           1,           1,\n",
       "                  1,           1,           1,           1,           1,           1,           1,           1,           1,           1,           1,           1,           1,           1,           1,           1,           1,           1,           1,           1,           1,           1,           1,\n",
       "                  1,           1,           1,           1,           1,           1,           1,           1,           1,           1,           1,           1,           1,           1,           1,           1,           1,           1,           1,           1,           1,           1,           1,\n",
       "                  1,           1,           1,           1,           1,           1,           1,           1,           1,           1,           1,           1,           1,           1,           1,           1,           1,           1,           1,           1,           1,           1,           1,\n",
       "                  1,           1,           1,           1,           1,           1,           1,           1,           1,           1,           1,           1,           1,           1,           1,           1,           1,           1,           1,           1,           1,           1,           1,\n",
       "                  1,           1,           1,           1,           1,           1,     0.99206,     0.99206,     0.99206,     0.99206,     0.99206,     0.99206,     0.99206,     0.99206,     0.99206,     0.99206,     0.99206,     0.99206,     0.99206,     0.99206,     0.99206,     0.99206,     0.99206,\n",
       "            0.99206,     0.99206,     0.99206,     0.99206,     0.99206,     0.99206,     0.99206,     0.99206,     0.99206,     0.99206,     0.99206,     0.99206,     0.99206,     0.99206,     0.99206,     0.99206,     0.99206,     0.99206,     0.99206,     0.99206,     0.99206,     0.99206,     0.99206,\n",
       "            0.99206,     0.99206,     0.99206,     0.99206,     0.99206,     0.99206,     0.99206,     0.99206,     0.99206,     0.99206,     0.99206,     0.99206,     0.99206,     0.99206,     0.99206,     0.99206,     0.99206,     0.99206,     0.99206,     0.99206,     0.99206,     0.99206,     0.99206,\n",
       "            0.99206,     0.99206,     0.99206,     0.99206,     0.99206,     0.99206,     0.99206,     0.99206,     0.99206,     0.99206,     0.99206,     0.99206,     0.99206,     0.99206,     0.99206,     0.99206,     0.99206,     0.99206,     0.99206,     0.99206,     0.99206,     0.99206,     0.99206,\n",
       "            0.99206,     0.99206,     0.99206,     0.99206,     0.99206,     0.99206,     0.99206,     0.99206,     0.99206,     0.99206,     0.99206,     0.99206,     0.99206,     0.99206,     0.99206,     0.99206,     0.99206,     0.99206,     0.99206,     0.99206,     0.99206,     0.99206,     0.99206,\n",
       "            0.99206,     0.99206,     0.99206,     0.99206,     0.99206,     0.99206,     0.99206,     0.99206,     0.99206,     0.99206,     0.99206,     0.99206,     0.99206,     0.99206,     0.99206,     0.99206,     0.99206,     0.99206,     0.99206,     0.99206,     0.99206,     0.99206,     0.99206,\n",
       "            0.99206,     0.99206,     0.99206,     0.99206,     0.99206,     0.99206,     0.99206,     0.99206,     0.99206,     0.99206,     0.99206,     0.99206,     0.99206,     0.99206,     0.99206,     0.99206,     0.99206,     0.99206,     0.99206,     0.99206,     0.99206,     0.99206,     0.99206,\n",
       "            0.99206,     0.99206,     0.99206,     0.99206,     0.99206,     0.99206,     0.99206,     0.99206,     0.99206,     0.99206,     0.99206,     0.99206,     0.99206,     0.99206,     0.99206,     0.99206,     0.99206,     0.99206,     0.99206,     0.99206,     0.99206,     0.99206,     0.99206,\n",
       "            0.99206,     0.99206,     0.99206,     0.99206,     0.99206,     0.99206,     0.99206,     0.99206,     0.99206,     0.99206,     0.99206,     0.99206,     0.99206,     0.99206,     0.99206,     0.99206,     0.99206,     0.99206,     0.99206,     0.99206,     0.99206,     0.99206,     0.99206,\n",
       "            0.99206,     0.99206,     0.99206,     0.99206,     0.99206,     0.99206,     0.99206,     0.99206,     0.99206,     0.99206,     0.99206,     0.99206,     0.99206,     0.99206,     0.99206,     0.99206,     0.99206,     0.99206,     0.99206,     0.99206,     0.99206,     0.99206,     0.99206,\n",
       "            0.99206,     0.99206,     0.99206,     0.99206,     0.98601,     0.98601,     0.98601,     0.98601,     0.98601,     0.98601,     0.98601,     0.98601,     0.98601,     0.98601,     0.98601,     0.98601,     0.98601,     0.98601,     0.98601,     0.98601,     0.98601,     0.98601,     0.98601,\n",
       "            0.98601,     0.98601,     0.98601,     0.98601,     0.98601,     0.98601,     0.98601,     0.98601,     0.98601,     0.98601,     0.98601,     0.98601,     0.98601,     0.98601,     0.98601,     0.98601,     0.98601,     0.98601,     0.98601,     0.98601,     0.98601,     0.98601,     0.98601,\n",
       "            0.98601,     0.98601,     0.98601,     0.98601,     0.98601,     0.98601,     0.98601,     0.98601,     0.98601,     0.98601,     0.98601,     0.98601,     0.98601,     0.98601,     0.98601,     0.98601,     0.98601,     0.98601,     0.98601,     0.98601,     0.98601,     0.98601,     0.98601,\n",
       "            0.98601,     0.98601,     0.98601,     0.98601,     0.98601,     0.98601,     0.98601,     0.98601,     0.98601,     0.98601,     0.98601,     0.98601,     0.98601,     0.98601,     0.98601,     0.98601,     0.98601,     0.97945,     0.97945,     0.97945,     0.97945,     0.97945,     0.97945,\n",
       "            0.97945,     0.97945,     0.97945,     0.97945,     0.97945,     0.97333,     0.97333,     0.97333,     0.97333,     0.97333,     0.97333,     0.97333,     0.97333,     0.97333,     0.97333,     0.97333,     0.97333,     0.97333,     0.97333,     0.97333,     0.96855,     0.96855,     0.96855,\n",
       "            0.96855,     0.96855,     0.96855,     0.96855,     0.96855,     0.96855,     0.96855,     0.96855,     0.96855,     0.96855,     0.96855,     0.96855,     0.96855,     0.96855,     0.96855,     0.96855,     0.96855,     0.96855,     0.96855,     0.96855,     0.96855,     0.96855,     0.96855,\n",
       "            0.96855,     0.96855,     0.96855,     0.96855,     0.96855,     0.96855,     0.96855,     0.96855,     0.96855,     0.96855,     0.96855,     0.96855,     0.96855,     0.96855,     0.96855,     0.96855,     0.96296,     0.96296,     0.96296,     0.96296,     0.96296,     0.96296,     0.96296,\n",
       "            0.96296,     0.96296,     0.96296,     0.95783,     0.95783,     0.95783,     0.95783,     0.95783,     0.95783,     0.95783,     0.95783,     0.95783,     0.95783,     0.95783,     0.95783,     0.95783,     0.95783,     0.95783,     0.95783,     0.95266,     0.95266,     0.95266,     0.95266,\n",
       "            0.95266,     0.95266,     0.95266,     0.95266,     0.95266,     0.95266,     0.94767,     0.94767,     0.94767,     0.94767,     0.94767,     0.94767,     0.94767,     0.94767,     0.94767,     0.94767,     0.94286,     0.94286,     0.94286,     0.94286,     0.94286,     0.94286,     0.94286,\n",
       "            0.94286,     0.94286,     0.94286,     0.94286,     0.91304,     0.91304,     0.91304,     0.91304,     0.91304,     0.91304,     0.91304,     0.91304,     0.91304,     0.91304,     0.91304,     0.91304,     0.91304,     0.91304,     0.91304,     0.90374,     0.90374,     0.90374,     0.90374,\n",
       "            0.90374,     0.89005,     0.89005,     0.89005,     0.89005,     0.89005,     0.88601,     0.88601,     0.88601,     0.88601,     0.88601,     0.88601,      0.8731,      0.8731,      0.8731,      0.8731,      0.8731,     0.85222,     0.85222,     0.85222,     0.85222,     0.85222,     0.84878,\n",
       "            0.84878,     0.84878,     0.84878,     0.84878,     0.82938,     0.82938,     0.82938,     0.82938,     0.82938,      0.8009,      0.8009,      0.8009,      0.8009,      0.8009,      0.8009,      0.8009,      0.8009,      0.8009,      0.8009,      0.8009,     0.77391,     0.77391,     0.77391,\n",
       "            0.77391,     0.77391,     0.73061,     0.73061,     0.73061,     0.73061,     0.73061,     0.71146,     0.71146,     0.71146,     0.71146,     0.71146,     0.65818,     0.65818,     0.65818,     0.65818,     0.65818,     0.61279,     0.61279,     0.61279,     0.61279,     0.61279,     0.61279,\n",
       "                0.6,         0.6,         0.6,         0.6,         0.6,     0.59164,     0.59164,     0.59164,     0.59164,     0.59164,     0.46954,     0.46954,     0.46954,     0.46954,     0.46954,     0.46851,     0.46851,     0.46851,     0.46851,     0.46851,     0.39121,     0.39121,     0.39121,\n",
       "            0.39121,     0.39121,     0.23239,     0.23239,     0.23239,     0.23239,     0.23239,     0.23239,     0.11406,     0.11406,     0.11406,     0.11406,     0.11406,    0.088044,    0.088044,    0.088044,    0.088044,    0.088044,    0.085078,    0.085078,    0.085078,    0.085078,    0.085078,\n",
       "          0.0065583,   0.0059025,   0.0052467,   0.0045908,    0.003935,   0.0032792,   0.0026233,   0.0019675,   0.0013117,  0.00065583,           0]]), 'Recall', 'Precision'], [array([          0,    0.001001,    0.002002,    0.003003,    0.004004,    0.005005,    0.006006,    0.007007,    0.008008,    0.009009,     0.01001,    0.011011,    0.012012,    0.013013,    0.014014,    0.015015,    0.016016,    0.017017,    0.018018,    0.019019,     0.02002,    0.021021,    0.022022,    0.023023,\n",
       "          0.024024,    0.025025,    0.026026,    0.027027,    0.028028,    0.029029,     0.03003,    0.031031,    0.032032,    0.033033,    0.034034,    0.035035,    0.036036,    0.037037,    0.038038,    0.039039,     0.04004,    0.041041,    0.042042,    0.043043,    0.044044,    0.045045,    0.046046,    0.047047,\n",
       "          0.048048,    0.049049,     0.05005,    0.051051,    0.052052,    0.053053,    0.054054,    0.055055,    0.056056,    0.057057,    0.058058,    0.059059,     0.06006,    0.061061,    0.062062,    0.063063,    0.064064,    0.065065,    0.066066,    0.067067,    0.068068,    0.069069,     0.07007,    0.071071,\n",
       "          0.072072,    0.073073,    0.074074,    0.075075,    0.076076,    0.077077,    0.078078,    0.079079,     0.08008,    0.081081,    0.082082,    0.083083,    0.084084,    0.085085,    0.086086,    0.087087,    0.088088,    0.089089,     0.09009,    0.091091,    0.092092,    0.093093,    0.094094,    0.095095,\n",
       "          0.096096,    0.097097,    0.098098,    0.099099,      0.1001,      0.1011,      0.1021,      0.1031,      0.1041,     0.10511,     0.10611,     0.10711,     0.10811,     0.10911,     0.11011,     0.11111,     0.11211,     0.11311,     0.11411,     0.11512,     0.11612,     0.11712,     0.11812,     0.11912,\n",
       "           0.12012,     0.12112,     0.12212,     0.12312,     0.12412,     0.12513,     0.12613,     0.12713,     0.12813,     0.12913,     0.13013,     0.13113,     0.13213,     0.13313,     0.13413,     0.13514,     0.13614,     0.13714,     0.13814,     0.13914,     0.14014,     0.14114,     0.14214,     0.14314,\n",
       "           0.14414,     0.14515,     0.14615,     0.14715,     0.14815,     0.14915,     0.15015,     0.15115,     0.15215,     0.15315,     0.15415,     0.15516,     0.15616,     0.15716,     0.15816,     0.15916,     0.16016,     0.16116,     0.16216,     0.16316,     0.16416,     0.16517,     0.16617,     0.16717,\n",
       "           0.16817,     0.16917,     0.17017,     0.17117,     0.17217,     0.17317,     0.17417,     0.17518,     0.17618,     0.17718,     0.17818,     0.17918,     0.18018,     0.18118,     0.18218,     0.18318,     0.18418,     0.18519,     0.18619,     0.18719,     0.18819,     0.18919,     0.19019,     0.19119,\n",
       "           0.19219,     0.19319,     0.19419,      0.1952,      0.1962,      0.1972,      0.1982,      0.1992,      0.2002,      0.2012,      0.2022,      0.2032,      0.2042,     0.20521,     0.20621,     0.20721,     0.20821,     0.20921,     0.21021,     0.21121,     0.21221,     0.21321,     0.21421,     0.21522,\n",
       "           0.21622,     0.21722,     0.21822,     0.21922,     0.22022,     0.22122,     0.22222,     0.22322,     0.22422,     0.22523,     0.22623,     0.22723,     0.22823,     0.22923,     0.23023,     0.23123,     0.23223,     0.23323,     0.23423,     0.23524,     0.23624,     0.23724,     0.23824,     0.23924,\n",
       "           0.24024,     0.24124,     0.24224,     0.24324,     0.24424,     0.24525,     0.24625,     0.24725,     0.24825,     0.24925,     0.25025,     0.25125,     0.25225,     0.25325,     0.25425,     0.25526,     0.25626,     0.25726,     0.25826,     0.25926,     0.26026,     0.26126,     0.26226,     0.26326,\n",
       "           0.26426,     0.26527,     0.26627,     0.26727,     0.26827,     0.26927,     0.27027,     0.27127,     0.27227,     0.27327,     0.27427,     0.27528,     0.27628,     0.27728,     0.27828,     0.27928,     0.28028,     0.28128,     0.28228,     0.28328,     0.28428,     0.28529,     0.28629,     0.28729,\n",
       "           0.28829,     0.28929,     0.29029,     0.29129,     0.29229,     0.29329,     0.29429,      0.2953,      0.2963,      0.2973,      0.2983,      0.2993,      0.3003,      0.3013,      0.3023,      0.3033,      0.3043,     0.30531,     0.30631,     0.30731,     0.30831,     0.30931,     0.31031,     0.31131,\n",
       "           0.31231,     0.31331,     0.31431,     0.31532,     0.31632,     0.31732,     0.31832,     0.31932,     0.32032,     0.32132,     0.32232,     0.32332,     0.32432,     0.32533,     0.32633,     0.32733,     0.32833,     0.32933,     0.33033,     0.33133,     0.33233,     0.33333,     0.33433,     0.33534,\n",
       "           0.33634,     0.33734,     0.33834,     0.33934,     0.34034,     0.34134,     0.34234,     0.34334,     0.34434,     0.34535,     0.34635,     0.34735,     0.34835,     0.34935,     0.35035,     0.35135,     0.35235,     0.35335,     0.35435,     0.35536,     0.35636,     0.35736,     0.35836,     0.35936,\n",
       "           0.36036,     0.36136,     0.36236,     0.36336,     0.36436,     0.36537,     0.36637,     0.36737,     0.36837,     0.36937,     0.37037,     0.37137,     0.37237,     0.37337,     0.37437,     0.37538,     0.37638,     0.37738,     0.37838,     0.37938,     0.38038,     0.38138,     0.38238,     0.38338,\n",
       "           0.38438,     0.38539,     0.38639,     0.38739,     0.38839,     0.38939,     0.39039,     0.39139,     0.39239,     0.39339,     0.39439,      0.3954,      0.3964,      0.3974,      0.3984,      0.3994,      0.4004,      0.4014,      0.4024,      0.4034,      0.4044,     0.40541,     0.40641,     0.40741,\n",
       "           0.40841,     0.40941,     0.41041,     0.41141,     0.41241,     0.41341,     0.41441,     0.41542,     0.41642,     0.41742,     0.41842,     0.41942,     0.42042,     0.42142,     0.42242,     0.42342,     0.42442,     0.42543,     0.42643,     0.42743,     0.42843,     0.42943,     0.43043,     0.43143,\n",
       "           0.43243,     0.43343,     0.43443,     0.43544,     0.43644,     0.43744,     0.43844,     0.43944,     0.44044,     0.44144,     0.44244,     0.44344,     0.44444,     0.44545,     0.44645,     0.44745,     0.44845,     0.44945,     0.45045,     0.45145,     0.45245,     0.45345,     0.45445,     0.45546,\n",
       "           0.45646,     0.45746,     0.45846,     0.45946,     0.46046,     0.46146,     0.46246,     0.46346,     0.46446,     0.46547,     0.46647,     0.46747,     0.46847,     0.46947,     0.47047,     0.47147,     0.47247,     0.47347,     0.47447,     0.47548,     0.47648,     0.47748,     0.47848,     0.47948,\n",
       "           0.48048,     0.48148,     0.48248,     0.48348,     0.48448,     0.48549,     0.48649,     0.48749,     0.48849,     0.48949,     0.49049,     0.49149,     0.49249,     0.49349,     0.49449,      0.4955,      0.4965,      0.4975,      0.4985,      0.4995,      0.5005,      0.5015,      0.5025,      0.5035,\n",
       "            0.5045,     0.50551,     0.50651,     0.50751,     0.50851,     0.50951,     0.51051,     0.51151,     0.51251,     0.51351,     0.51451,     0.51552,     0.51652,     0.51752,     0.51852,     0.51952,     0.52052,     0.52152,     0.52252,     0.52352,     0.52452,     0.52553,     0.52653,     0.52753,\n",
       "           0.52853,     0.52953,     0.53053,     0.53153,     0.53253,     0.53353,     0.53453,     0.53554,     0.53654,     0.53754,     0.53854,     0.53954,     0.54054,     0.54154,     0.54254,     0.54354,     0.54454,     0.54555,     0.54655,     0.54755,     0.54855,     0.54955,     0.55055,     0.55155,\n",
       "           0.55255,     0.55355,     0.55455,     0.55556,     0.55656,     0.55756,     0.55856,     0.55956,     0.56056,     0.56156,     0.56256,     0.56356,     0.56456,     0.56557,     0.56657,     0.56757,     0.56857,     0.56957,     0.57057,     0.57157,     0.57257,     0.57357,     0.57457,     0.57558,\n",
       "           0.57658,     0.57758,     0.57858,     0.57958,     0.58058,     0.58158,     0.58258,     0.58358,     0.58458,     0.58559,     0.58659,     0.58759,     0.58859,     0.58959,     0.59059,     0.59159,     0.59259,     0.59359,     0.59459,      0.5956,      0.5966,      0.5976,      0.5986,      0.5996,\n",
       "            0.6006,      0.6016,      0.6026,      0.6036,      0.6046,     0.60561,     0.60661,     0.60761,     0.60861,     0.60961,     0.61061,     0.61161,     0.61261,     0.61361,     0.61461,     0.61562,     0.61662,     0.61762,     0.61862,     0.61962,     0.62062,     0.62162,     0.62262,     0.62362,\n",
       "           0.62462,     0.62563,     0.62663,     0.62763,     0.62863,     0.62963,     0.63063,     0.63163,     0.63263,     0.63363,     0.63463,     0.63564,     0.63664,     0.63764,     0.63864,     0.63964,     0.64064,     0.64164,     0.64264,     0.64364,     0.64464,     0.64565,     0.64665,     0.64765,\n",
       "           0.64865,     0.64965,     0.65065,     0.65165,     0.65265,     0.65365,     0.65465,     0.65566,     0.65666,     0.65766,     0.65866,     0.65966,     0.66066,     0.66166,     0.66266,     0.66366,     0.66466,     0.66567,     0.66667,     0.66767,     0.66867,     0.66967,     0.67067,     0.67167,\n",
       "           0.67267,     0.67367,     0.67467,     0.67568,     0.67668,     0.67768,     0.67868,     0.67968,     0.68068,     0.68168,     0.68268,     0.68368,     0.68468,     0.68569,     0.68669,     0.68769,     0.68869,     0.68969,     0.69069,     0.69169,     0.69269,     0.69369,     0.69469,      0.6957,\n",
       "            0.6967,      0.6977,      0.6987,      0.6997,      0.7007,      0.7017,      0.7027,      0.7037,      0.7047,     0.70571,     0.70671,     0.70771,     0.70871,     0.70971,     0.71071,     0.71171,     0.71271,     0.71371,     0.71471,     0.71572,     0.71672,     0.71772,     0.71872,     0.71972,\n",
       "           0.72072,     0.72172,     0.72272,     0.72372,     0.72472,     0.72573,     0.72673,     0.72773,     0.72873,     0.72973,     0.73073,     0.73173,     0.73273,     0.73373,     0.73473,     0.73574,     0.73674,     0.73774,     0.73874,     0.73974,     0.74074,     0.74174,     0.74274,     0.74374,\n",
       "           0.74474,     0.74575,     0.74675,     0.74775,     0.74875,     0.74975,     0.75075,     0.75175,     0.75275,     0.75375,     0.75475,     0.75576,     0.75676,     0.75776,     0.75876,     0.75976,     0.76076,     0.76176,     0.76276,     0.76376,     0.76476,     0.76577,     0.76677,     0.76777,\n",
       "           0.76877,     0.76977,     0.77077,     0.77177,     0.77277,     0.77377,     0.77477,     0.77578,     0.77678,     0.77778,     0.77878,     0.77978,     0.78078,     0.78178,     0.78278,     0.78378,     0.78478,     0.78579,     0.78679,     0.78779,     0.78879,     0.78979,     0.79079,     0.79179,\n",
       "           0.79279,     0.79379,     0.79479,      0.7958,      0.7968,      0.7978,      0.7988,      0.7998,      0.8008,      0.8018,      0.8028,      0.8038,      0.8048,     0.80581,     0.80681,     0.80781,     0.80881,     0.80981,     0.81081,     0.81181,     0.81281,     0.81381,     0.81481,     0.81582,\n",
       "           0.81682,     0.81782,     0.81882,     0.81982,     0.82082,     0.82182,     0.82282,     0.82382,     0.82482,     0.82583,     0.82683,     0.82783,     0.82883,     0.82983,     0.83083,     0.83183,     0.83283,     0.83383,     0.83483,     0.83584,     0.83684,     0.83784,     0.83884,     0.83984,\n",
       "           0.84084,     0.84184,     0.84284,     0.84384,     0.84484,     0.84585,     0.84685,     0.84785,     0.84885,     0.84985,     0.85085,     0.85185,     0.85285,     0.85385,     0.85485,     0.85586,     0.85686,     0.85786,     0.85886,     0.85986,     0.86086,     0.86186,     0.86286,     0.86386,\n",
       "           0.86486,     0.86587,     0.86687,     0.86787,     0.86887,     0.86987,     0.87087,     0.87187,     0.87287,     0.87387,     0.87487,     0.87588,     0.87688,     0.87788,     0.87888,     0.87988,     0.88088,     0.88188,     0.88288,     0.88388,     0.88488,     0.88589,     0.88689,     0.88789,\n",
       "           0.88889,     0.88989,     0.89089,     0.89189,     0.89289,     0.89389,     0.89489,      0.8959,      0.8969,      0.8979,      0.8989,      0.8999,      0.9009,      0.9019,      0.9029,      0.9039,      0.9049,     0.90591,     0.90691,     0.90791,     0.90891,     0.90991,     0.91091,     0.91191,\n",
       "           0.91291,     0.91391,     0.91491,     0.91592,     0.91692,     0.91792,     0.91892,     0.91992,     0.92092,     0.92192,     0.92292,     0.92392,     0.92492,     0.92593,     0.92693,     0.92793,     0.92893,     0.92993,     0.93093,     0.93193,     0.93293,     0.93393,     0.93493,     0.93594,\n",
       "           0.93694,     0.93794,     0.93894,     0.93994,     0.94094,     0.94194,     0.94294,     0.94394,     0.94494,     0.94595,     0.94695,     0.94795,     0.94895,     0.94995,     0.95095,     0.95195,     0.95295,     0.95395,     0.95495,     0.95596,     0.95696,     0.95796,     0.95896,     0.95996,\n",
       "           0.96096,     0.96196,     0.96296,     0.96396,     0.96496,     0.96597,     0.96697,     0.96797,     0.96897,     0.96997,     0.97097,     0.97197,     0.97297,     0.97397,     0.97497,     0.97598,     0.97698,     0.97798,     0.97898,     0.97998,     0.98098,     0.98198,     0.98298,     0.98398,\n",
       "           0.98498,     0.98599,     0.98699,     0.98799,     0.98899,     0.98999,     0.99099,     0.99199,     0.99299,     0.99399,     0.99499,       0.996,       0.997,       0.998,       0.999,           1]), array([[   0.013486,    0.013486,     0.01368,     0.04288,     0.16151,     0.27612,     0.34057,     0.39541,     0.44053,     0.47385,     0.49479,     0.51619,     0.53399,     0.55413,     0.56593,     0.58026,     0.59492,     0.60351,     0.61652,     0.62574,     0.62968,     0.64037,     0.64856,\n",
       "            0.65921,     0.66272,     0.66774,     0.67012,     0.67563,      0.6785,     0.68366,     0.68855,     0.69511,     0.69992,     0.70094,     0.70593,     0.70884,     0.71444,     0.71812,     0.71939,     0.72248,     0.72622,     0.72797,     0.73072,     0.73354,     0.73565,       0.738,\n",
       "            0.74111,     0.74149,     0.74234,     0.74529,     0.75273,     0.75602,     0.75786,     0.75924,      0.7611,     0.76569,     0.76757,     0.76865,     0.76943,     0.77022,      0.7716,     0.77091,      0.7716,     0.77228,     0.77348,     0.77935,     0.78043,     0.78184,      0.7851,\n",
       "            0.78862,     0.79026,     0.79167,     0.79284,     0.79548,     0.79702,     0.79804,     0.79848,      0.7988,     0.79912,     0.79943,     0.79975,     0.80122,     0.80431,     0.80568,     0.80607,     0.80645,     0.80683,      0.8045,     0.80482,     0.80513,     0.80545,     0.80577,\n",
       "            0.80608,     0.80706,     0.80846,     0.80904,     0.80962,     0.81042,     0.81153,     0.81291,     0.81382,     0.81417,     0.81452,     0.81487,     0.81523,     0.81583,     0.81717,      0.8154,     0.81718,     0.81853,     0.81908,     0.81962,     0.82017,     0.82087,      0.8216,\n",
       "            0.82233,     0.82299,     0.82365,     0.82453,     0.82578,     0.82623,     0.82652,     0.82681,      0.8271,     0.82739,     0.82768,     0.82854,     0.83063,      0.8319,     0.83254,     0.83319,     0.83496,     0.83683,     0.83793,     0.83872,     0.83951,     0.84135,     0.84092,\n",
       "            0.84049,     0.84006,     0.83962,     0.83919,     0.84001,     0.84111,     0.84142,     0.84173,     0.84204,     0.84235,     0.84266,      0.8429,     0.84302,     0.84315,     0.84327,     0.84339,     0.84351,     0.84363,     0.84376,     0.84388,       0.844,     0.84412,     0.84425,\n",
       "            0.84437,     0.84449,     0.84461,     0.84473,     0.84486,     0.84497,     0.84508,     0.84519,     0.84529,      0.8454,     0.84551,     0.84562,     0.84573,     0.84584,     0.84595,     0.84606,     0.84617,     0.84628,     0.84639,     0.84649,      0.8466,     0.84671,     0.84682,\n",
       "            0.84759,     0.84908,     0.84963,     0.85018,     0.85072,      0.8511,     0.85134,     0.85158,     0.85183,     0.85207,     0.85232,     0.85256,      0.8528,     0.85307,     0.85351,     0.85395,     0.85438,     0.85482,     0.85456,     0.85334,     0.85226,     0.85199,     0.85173,\n",
       "            0.85146,     0.85119,     0.85092,     0.85066,     0.85039,     0.85012,     0.84985,     0.84959,     0.85174,     0.85235,     0.85296,     0.85356,      0.8538,     0.85398,     0.85415,     0.85432,      0.8545,     0.85467,     0.85484,     0.85501,     0.85519,     0.85536,     0.85553,\n",
       "             0.8557,      0.8569,     0.85794,     0.85818,     0.85843,     0.85868,     0.85892,     0.85917,     0.85942,     0.85966,     0.85991,     0.86127,     0.86269,     0.86394,     0.86426,     0.86434,     0.86442,      0.8645,     0.86458,     0.86465,     0.86473,     0.86481,     0.86489,\n",
       "            0.86497,     0.86505,     0.86513,      0.8652,     0.86528,     0.86536,     0.86544,     0.86552,      0.8656,     0.86568,     0.86575,     0.86583,     0.86591,     0.86599,     0.86607,     0.86615,     0.86623,      0.8663,     0.86609,     0.86568,     0.86526,     0.86484,     0.86442,\n",
       "            0.86401,     0.86359,     0.86378,     0.86408,     0.86438,     0.86468,     0.86498,     0.86528,     0.86558,     0.86661,     0.86784,     0.86796,     0.86807,     0.86819,      0.8683,     0.86842,     0.86853,     0.86865,     0.86876,     0.86888,     0.86899,     0.86911,     0.86922,\n",
       "            0.86934,     0.86945,     0.86957,     0.86968,      0.8698,     0.86991,      0.8722,     0.87248,     0.87276,     0.87304,     0.87332,      0.8736,     0.87388,     0.87416,     0.87412,     0.87311,      0.8721,     0.87157,     0.87165,     0.87173,     0.87181,     0.87189,     0.87197,\n",
       "            0.87205,     0.87213,     0.87221,     0.87229,     0.87237,     0.87245,     0.87253,     0.87261,     0.87269,     0.87277,     0.87285,     0.87293,     0.87301,     0.87309,     0.87317,     0.87325,     0.87333,     0.87341,     0.87349,     0.87357,     0.87365,     0.87373,      0.8736,\n",
       "            0.87345,     0.87329,     0.87314,     0.87299,     0.87283,     0.87268,     0.87253,     0.87237,     0.87222,     0.87207,     0.87192,     0.87176,     0.87161,     0.87146,      0.8713,     0.87115,       0.871,     0.87096,     0.87122,     0.87149,     0.87175,     0.87201,     0.87227,\n",
       "            0.87254,      0.8728,     0.87306,     0.87757,     0.87771,     0.87785,     0.87799,     0.87814,     0.87828,     0.87842,     0.87856,     0.87871,     0.87885,     0.87899,     0.87913,     0.87928,     0.87942,     0.87956,      0.8797,     0.87982,      0.8799,     0.87998,     0.88005,\n",
       "            0.88013,     0.88021,     0.88029,     0.88036,     0.88044,     0.88052,     0.88059,     0.88067,     0.88075,     0.88083,      0.8809,     0.88098,     0.88106,     0.88113,     0.88121,     0.88129,     0.88136,     0.88144,     0.88152,      0.8816,     0.88167,     0.88175,     0.88183,\n",
       "             0.8819,     0.88198,     0.88203,     0.88169,     0.88135,     0.88101,     0.88068,     0.88034,        0.88,     0.87966,     0.87932,     0.87932,     0.87955,     0.87979,     0.88003,     0.88027,     0.88051,     0.88074,     0.88098,     0.88122,     0.88147,     0.88201,     0.88255,\n",
       "            0.88309,     0.88362,     0.88384,     0.88398,     0.88412,     0.88426,      0.8844,     0.88454,     0.88469,     0.88483,     0.88497,     0.88511,     0.88525,     0.88539,     0.88553,     0.88567,     0.88581,     0.88596,     0.88581,     0.88548,     0.88514,     0.88481,     0.88448,\n",
       "            0.88415,     0.88381,     0.88348,     0.88315,      0.8835,     0.88393,     0.88436,     0.88479,     0.88521,     0.88524,      0.8849,     0.88456,     0.88422,     0.88389,     0.88355,     0.88321,     0.88287,     0.88253,     0.88261,     0.88272,     0.88283,     0.88294,     0.88305,\n",
       "            0.88317,     0.88328,     0.88339,      0.8835,     0.88361,     0.88372,     0.88383,     0.88394,     0.88405,     0.88416,     0.88428,     0.88439,      0.8845,     0.88461,     0.88472,     0.88486,     0.88527,     0.88568,     0.88609,      0.8865,     0.88691,     0.88742,     0.88804,\n",
       "            0.88866,     0.88928,      0.8893,     0.88906,     0.88881,     0.88856,     0.88831,     0.88807,     0.88782,     0.88757,     0.88732,     0.88708,     0.88683,     0.88658,     0.88677,     0.88704,      0.8873,     0.88757,     0.88783,      0.8881,     0.88836,     0.88863,     0.88892,\n",
       "            0.89056,     0.89098,     0.89052,     0.89006,      0.8896,     0.88914,     0.88867,     0.88824,     0.88796,     0.88768,      0.8874,     0.88712,     0.88683,     0.88655,     0.88627,     0.88599,      0.8857,     0.88542,     0.88487,      0.8842,     0.88353,     0.88286,      0.8824,\n",
       "            0.88258,     0.88277,     0.88295,     0.88314,     0.88332,     0.88351,     0.88369,     0.88388,     0.88406,     0.88425,     0.88443,     0.88461,     0.88485,     0.88517,     0.88548,     0.88579,      0.8861,     0.88641,     0.88672,     0.88703,     0.88974,     0.89041,     0.89108,\n",
       "            0.89174,     0.89199,     0.89212,     0.89225,     0.89238,     0.89251,     0.89264,     0.89277,      0.8929,     0.89303,     0.89316,     0.89329,     0.89342,     0.89355,     0.89368,     0.89381,     0.89394,     0.89407,      0.8942,     0.89434,     0.89455,     0.89475,     0.89496,\n",
       "            0.89516,     0.89537,     0.89557,     0.89577,     0.89598,     0.89618,     0.89639,     0.89659,     0.89673,     0.89669,     0.89665,     0.89661,     0.89657,     0.89653,     0.89649,     0.89644,      0.8964,     0.89636,     0.89632,     0.89628,     0.89624,      0.8962,     0.89616,\n",
       "            0.89612,     0.89608,     0.89604,       0.896,     0.89596,     0.89592,     0.89588,     0.89584,      0.8958,     0.89576,     0.89571,     0.89567,     0.89563,     0.89559,     0.89555,     0.89551,     0.89547,     0.89543,     0.89539,     0.89535,     0.89531,     0.89527,     0.89523,\n",
       "            0.89519,     0.89515,     0.89511,     0.89507,     0.89502,     0.89498,     0.89494,      0.8949,     0.89486,     0.89482,     0.89478,     0.89474,      0.8947,     0.89466,     0.89462,     0.89458,     0.89454,      0.8945,     0.89446,     0.89441,     0.89437,     0.89433,     0.89429,\n",
       "            0.89425,     0.89421,     0.89417,     0.89413,     0.89409,     0.89405,     0.89401,     0.89397,     0.89393,     0.89389,     0.89385,      0.8938,     0.89376,     0.89364,     0.89326,     0.89288,     0.89251,     0.89213,     0.89175,     0.89137,     0.89099,     0.89074,     0.89087,\n",
       "              0.891,     0.89112,     0.89125,     0.89137,      0.8915,     0.89163,     0.89175,     0.89188,       0.892,     0.89213,     0.89226,     0.89238,     0.89251,     0.89263,     0.89276,     0.89288,     0.89301,     0.89313,     0.89261,       0.892,     0.89138,     0.89076,     0.89014,\n",
       "            0.88715,     0.88873,     0.88944,     0.88932,      0.8892,     0.88908,     0.88896,     0.88884,     0.88873,     0.88861,     0.88849,     0.88837,     0.88825,     0.88813,     0.88801,     0.88789,     0.88778,     0.88766,     0.88754,     0.88742,      0.8873,     0.88718,     0.88706,\n",
       "            0.88694,     0.88682,      0.8867,     0.88659,     0.88647,     0.88601,     0.88537,     0.88474,     0.88411,     0.88347,     0.88349,     0.88369,     0.88389,     0.88409,     0.88429,      0.8845,      0.8847,      0.8849,      0.8851,      0.8853,      0.8855,      0.8857,     0.88553,\n",
       "            0.88503,     0.88453,     0.88403,     0.88353,     0.88303,     0.88247,     0.88179,     0.88111,     0.88042,     0.87974,     0.87932,     0.87901,     0.87869,     0.87838,     0.87806,     0.87775,     0.87743,     0.87712,      0.8768,     0.87649,     0.87686,     0.87747,     0.87808,\n",
       "            0.87869,     0.87693,     0.87551,     0.87515,     0.87479,     0.87443,     0.87407,     0.87371,     0.87335,       0.873,     0.87264,     0.87305,     0.87382,     0.87459,      0.8749,     0.87467,     0.87445,     0.87422,       0.874,     0.87378,     0.87355,     0.87333,      0.8731,\n",
       "            0.87288,     0.87265,     0.87243,     0.87221,     0.87198,      0.8717,     0.87115,      0.8706,     0.87005,      0.8695,     0.86895,     0.86819,     0.86693,     0.86567,     0.86198,     0.86181,     0.86165,     0.86148,     0.86132,     0.86115,     0.86099,     0.86082,     0.86066,\n",
       "            0.86049,     0.86033,     0.86016,        0.86,     0.85983,     0.85967,      0.8595,     0.85934,     0.85917,       0.859,     0.85884,     0.85738,     0.85548,     0.85524,       0.855,     0.85476,     0.85452,     0.85428,     0.85404,     0.85381,     0.85357,     0.85333,     0.85309,\n",
       "            0.85285,     0.85261,     0.85237,     0.85199,     0.85095,      0.8499,     0.84886,     0.85112,     0.85043,     0.84975,     0.84906,     0.84837,     0.84751,     0.84636,     0.84521,     0.84424,     0.84349,     0.84273,     0.84197,     0.84122,     0.84306,     0.84145,     0.84006,\n",
       "            0.83936,     0.83865,     0.83794,     0.83723,     0.83925,     0.83886,     0.83848,     0.83809,     0.83771,     0.83732,     0.83693,     0.83655,     0.83616,     0.83554,     0.83319,     0.83183,     0.83103,     0.83024,     0.82944,     0.82845,     0.82687,     0.82524,      0.8211,\n",
       "            0.81659,     0.81032,      0.8085,     0.80291,     0.80071,     0.79675,     0.79241,     0.78919,     0.78284,     0.78239,     0.78284,     0.78071,     0.77948,     0.77884,      0.7782,     0.77755,     0.77691,     0.77626,     0.76961,     0.75535,     0.75152,     0.75049,     0.74945,\n",
       "            0.74842,      0.7456,     0.74185,     0.73064,     0.72295,     0.71751,     0.71245,     0.70857,     0.70483,     0.69568,     0.68676,      0.6823,     0.67423,     0.66403,     0.65552,     0.65279,     0.65002,     0.64566,     0.63773,     0.62377,     0.62178,     0.61979,     0.61105,\n",
       "            0.60755,     0.60501,     0.59135,     0.58458,      0.5741,      0.5669,     0.56166,     0.55332,     0.53202,     0.52689,     0.50928,     0.50551,      0.4913,     0.48522,      0.4555,     0.43638,     0.41128,     0.39965,     0.36946,     0.35006,     0.33848,     0.31437,     0.30723,\n",
       "             0.3024,     0.28799,     0.25341,     0.24713,     0.22303,     0.18606,     0.17983,     0.15552,     0.12644,      0.1103,      0.1013,    0.088081,    0.085617,    0.083146,    0.080669,    0.069369,    0.057925,    0.054273,    0.050607,    0.030033,    0.019059,     0.01454,           0,\n",
       "                  0,           0,           0,           0,           0,           0,           0,           0,           0,           0,           0]]), 'Confidence', 'F1'], [array([          0,    0.001001,    0.002002,    0.003003,    0.004004,    0.005005,    0.006006,    0.007007,    0.008008,    0.009009,     0.01001,    0.011011,    0.012012,    0.013013,    0.014014,    0.015015,    0.016016,    0.017017,    0.018018,    0.019019,     0.02002,    0.021021,    0.022022,    0.023023,\n",
       "          0.024024,    0.025025,    0.026026,    0.027027,    0.028028,    0.029029,     0.03003,    0.031031,    0.032032,    0.033033,    0.034034,    0.035035,    0.036036,    0.037037,    0.038038,    0.039039,     0.04004,    0.041041,    0.042042,    0.043043,    0.044044,    0.045045,    0.046046,    0.047047,\n",
       "          0.048048,    0.049049,     0.05005,    0.051051,    0.052052,    0.053053,    0.054054,    0.055055,    0.056056,    0.057057,    0.058058,    0.059059,     0.06006,    0.061061,    0.062062,    0.063063,    0.064064,    0.065065,    0.066066,    0.067067,    0.068068,    0.069069,     0.07007,    0.071071,\n",
       "          0.072072,    0.073073,    0.074074,    0.075075,    0.076076,    0.077077,    0.078078,    0.079079,     0.08008,    0.081081,    0.082082,    0.083083,    0.084084,    0.085085,    0.086086,    0.087087,    0.088088,    0.089089,     0.09009,    0.091091,    0.092092,    0.093093,    0.094094,    0.095095,\n",
       "          0.096096,    0.097097,    0.098098,    0.099099,      0.1001,      0.1011,      0.1021,      0.1031,      0.1041,     0.10511,     0.10611,     0.10711,     0.10811,     0.10911,     0.11011,     0.11111,     0.11211,     0.11311,     0.11411,     0.11512,     0.11612,     0.11712,     0.11812,     0.11912,\n",
       "           0.12012,     0.12112,     0.12212,     0.12312,     0.12412,     0.12513,     0.12613,     0.12713,     0.12813,     0.12913,     0.13013,     0.13113,     0.13213,     0.13313,     0.13413,     0.13514,     0.13614,     0.13714,     0.13814,     0.13914,     0.14014,     0.14114,     0.14214,     0.14314,\n",
       "           0.14414,     0.14515,     0.14615,     0.14715,     0.14815,     0.14915,     0.15015,     0.15115,     0.15215,     0.15315,     0.15415,     0.15516,     0.15616,     0.15716,     0.15816,     0.15916,     0.16016,     0.16116,     0.16216,     0.16316,     0.16416,     0.16517,     0.16617,     0.16717,\n",
       "           0.16817,     0.16917,     0.17017,     0.17117,     0.17217,     0.17317,     0.17417,     0.17518,     0.17618,     0.17718,     0.17818,     0.17918,     0.18018,     0.18118,     0.18218,     0.18318,     0.18418,     0.18519,     0.18619,     0.18719,     0.18819,     0.18919,     0.19019,     0.19119,\n",
       "           0.19219,     0.19319,     0.19419,      0.1952,      0.1962,      0.1972,      0.1982,      0.1992,      0.2002,      0.2012,      0.2022,      0.2032,      0.2042,     0.20521,     0.20621,     0.20721,     0.20821,     0.20921,     0.21021,     0.21121,     0.21221,     0.21321,     0.21421,     0.21522,\n",
       "           0.21622,     0.21722,     0.21822,     0.21922,     0.22022,     0.22122,     0.22222,     0.22322,     0.22422,     0.22523,     0.22623,     0.22723,     0.22823,     0.22923,     0.23023,     0.23123,     0.23223,     0.23323,     0.23423,     0.23524,     0.23624,     0.23724,     0.23824,     0.23924,\n",
       "           0.24024,     0.24124,     0.24224,     0.24324,     0.24424,     0.24525,     0.24625,     0.24725,     0.24825,     0.24925,     0.25025,     0.25125,     0.25225,     0.25325,     0.25425,     0.25526,     0.25626,     0.25726,     0.25826,     0.25926,     0.26026,     0.26126,     0.26226,     0.26326,\n",
       "           0.26426,     0.26527,     0.26627,     0.26727,     0.26827,     0.26927,     0.27027,     0.27127,     0.27227,     0.27327,     0.27427,     0.27528,     0.27628,     0.27728,     0.27828,     0.27928,     0.28028,     0.28128,     0.28228,     0.28328,     0.28428,     0.28529,     0.28629,     0.28729,\n",
       "           0.28829,     0.28929,     0.29029,     0.29129,     0.29229,     0.29329,     0.29429,      0.2953,      0.2963,      0.2973,      0.2983,      0.2993,      0.3003,      0.3013,      0.3023,      0.3033,      0.3043,     0.30531,     0.30631,     0.30731,     0.30831,     0.30931,     0.31031,     0.31131,\n",
       "           0.31231,     0.31331,     0.31431,     0.31532,     0.31632,     0.31732,     0.31832,     0.31932,     0.32032,     0.32132,     0.32232,     0.32332,     0.32432,     0.32533,     0.32633,     0.32733,     0.32833,     0.32933,     0.33033,     0.33133,     0.33233,     0.33333,     0.33433,     0.33534,\n",
       "           0.33634,     0.33734,     0.33834,     0.33934,     0.34034,     0.34134,     0.34234,     0.34334,     0.34434,     0.34535,     0.34635,     0.34735,     0.34835,     0.34935,     0.35035,     0.35135,     0.35235,     0.35335,     0.35435,     0.35536,     0.35636,     0.35736,     0.35836,     0.35936,\n",
       "           0.36036,     0.36136,     0.36236,     0.36336,     0.36436,     0.36537,     0.36637,     0.36737,     0.36837,     0.36937,     0.37037,     0.37137,     0.37237,     0.37337,     0.37437,     0.37538,     0.37638,     0.37738,     0.37838,     0.37938,     0.38038,     0.38138,     0.38238,     0.38338,\n",
       "           0.38438,     0.38539,     0.38639,     0.38739,     0.38839,     0.38939,     0.39039,     0.39139,     0.39239,     0.39339,     0.39439,      0.3954,      0.3964,      0.3974,      0.3984,      0.3994,      0.4004,      0.4014,      0.4024,      0.4034,      0.4044,     0.40541,     0.40641,     0.40741,\n",
       "           0.40841,     0.40941,     0.41041,     0.41141,     0.41241,     0.41341,     0.41441,     0.41542,     0.41642,     0.41742,     0.41842,     0.41942,     0.42042,     0.42142,     0.42242,     0.42342,     0.42442,     0.42543,     0.42643,     0.42743,     0.42843,     0.42943,     0.43043,     0.43143,\n",
       "           0.43243,     0.43343,     0.43443,     0.43544,     0.43644,     0.43744,     0.43844,     0.43944,     0.44044,     0.44144,     0.44244,     0.44344,     0.44444,     0.44545,     0.44645,     0.44745,     0.44845,     0.44945,     0.45045,     0.45145,     0.45245,     0.45345,     0.45445,     0.45546,\n",
       "           0.45646,     0.45746,     0.45846,     0.45946,     0.46046,     0.46146,     0.46246,     0.46346,     0.46446,     0.46547,     0.46647,     0.46747,     0.46847,     0.46947,     0.47047,     0.47147,     0.47247,     0.47347,     0.47447,     0.47548,     0.47648,     0.47748,     0.47848,     0.47948,\n",
       "           0.48048,     0.48148,     0.48248,     0.48348,     0.48448,     0.48549,     0.48649,     0.48749,     0.48849,     0.48949,     0.49049,     0.49149,     0.49249,     0.49349,     0.49449,      0.4955,      0.4965,      0.4975,      0.4985,      0.4995,      0.5005,      0.5015,      0.5025,      0.5035,\n",
       "            0.5045,     0.50551,     0.50651,     0.50751,     0.50851,     0.50951,     0.51051,     0.51151,     0.51251,     0.51351,     0.51451,     0.51552,     0.51652,     0.51752,     0.51852,     0.51952,     0.52052,     0.52152,     0.52252,     0.52352,     0.52452,     0.52553,     0.52653,     0.52753,\n",
       "           0.52853,     0.52953,     0.53053,     0.53153,     0.53253,     0.53353,     0.53453,     0.53554,     0.53654,     0.53754,     0.53854,     0.53954,     0.54054,     0.54154,     0.54254,     0.54354,     0.54454,     0.54555,     0.54655,     0.54755,     0.54855,     0.54955,     0.55055,     0.55155,\n",
       "           0.55255,     0.55355,     0.55455,     0.55556,     0.55656,     0.55756,     0.55856,     0.55956,     0.56056,     0.56156,     0.56256,     0.56356,     0.56456,     0.56557,     0.56657,     0.56757,     0.56857,     0.56957,     0.57057,     0.57157,     0.57257,     0.57357,     0.57457,     0.57558,\n",
       "           0.57658,     0.57758,     0.57858,     0.57958,     0.58058,     0.58158,     0.58258,     0.58358,     0.58458,     0.58559,     0.58659,     0.58759,     0.58859,     0.58959,     0.59059,     0.59159,     0.59259,     0.59359,     0.59459,      0.5956,      0.5966,      0.5976,      0.5986,      0.5996,\n",
       "            0.6006,      0.6016,      0.6026,      0.6036,      0.6046,     0.60561,     0.60661,     0.60761,     0.60861,     0.60961,     0.61061,     0.61161,     0.61261,     0.61361,     0.61461,     0.61562,     0.61662,     0.61762,     0.61862,     0.61962,     0.62062,     0.62162,     0.62262,     0.62362,\n",
       "           0.62462,     0.62563,     0.62663,     0.62763,     0.62863,     0.62963,     0.63063,     0.63163,     0.63263,     0.63363,     0.63463,     0.63564,     0.63664,     0.63764,     0.63864,     0.63964,     0.64064,     0.64164,     0.64264,     0.64364,     0.64464,     0.64565,     0.64665,     0.64765,\n",
       "           0.64865,     0.64965,     0.65065,     0.65165,     0.65265,     0.65365,     0.65465,     0.65566,     0.65666,     0.65766,     0.65866,     0.65966,     0.66066,     0.66166,     0.66266,     0.66366,     0.66466,     0.66567,     0.66667,     0.66767,     0.66867,     0.66967,     0.67067,     0.67167,\n",
       "           0.67267,     0.67367,     0.67467,     0.67568,     0.67668,     0.67768,     0.67868,     0.67968,     0.68068,     0.68168,     0.68268,     0.68368,     0.68468,     0.68569,     0.68669,     0.68769,     0.68869,     0.68969,     0.69069,     0.69169,     0.69269,     0.69369,     0.69469,      0.6957,\n",
       "            0.6967,      0.6977,      0.6987,      0.6997,      0.7007,      0.7017,      0.7027,      0.7037,      0.7047,     0.70571,     0.70671,     0.70771,     0.70871,     0.70971,     0.71071,     0.71171,     0.71271,     0.71371,     0.71471,     0.71572,     0.71672,     0.71772,     0.71872,     0.71972,\n",
       "           0.72072,     0.72172,     0.72272,     0.72372,     0.72472,     0.72573,     0.72673,     0.72773,     0.72873,     0.72973,     0.73073,     0.73173,     0.73273,     0.73373,     0.73473,     0.73574,     0.73674,     0.73774,     0.73874,     0.73974,     0.74074,     0.74174,     0.74274,     0.74374,\n",
       "           0.74474,     0.74575,     0.74675,     0.74775,     0.74875,     0.74975,     0.75075,     0.75175,     0.75275,     0.75375,     0.75475,     0.75576,     0.75676,     0.75776,     0.75876,     0.75976,     0.76076,     0.76176,     0.76276,     0.76376,     0.76476,     0.76577,     0.76677,     0.76777,\n",
       "           0.76877,     0.76977,     0.77077,     0.77177,     0.77277,     0.77377,     0.77477,     0.77578,     0.77678,     0.77778,     0.77878,     0.77978,     0.78078,     0.78178,     0.78278,     0.78378,     0.78478,     0.78579,     0.78679,     0.78779,     0.78879,     0.78979,     0.79079,     0.79179,\n",
       "           0.79279,     0.79379,     0.79479,      0.7958,      0.7968,      0.7978,      0.7988,      0.7998,      0.8008,      0.8018,      0.8028,      0.8038,      0.8048,     0.80581,     0.80681,     0.80781,     0.80881,     0.80981,     0.81081,     0.81181,     0.81281,     0.81381,     0.81481,     0.81582,\n",
       "           0.81682,     0.81782,     0.81882,     0.81982,     0.82082,     0.82182,     0.82282,     0.82382,     0.82482,     0.82583,     0.82683,     0.82783,     0.82883,     0.82983,     0.83083,     0.83183,     0.83283,     0.83383,     0.83483,     0.83584,     0.83684,     0.83784,     0.83884,     0.83984,\n",
       "           0.84084,     0.84184,     0.84284,     0.84384,     0.84484,     0.84585,     0.84685,     0.84785,     0.84885,     0.84985,     0.85085,     0.85185,     0.85285,     0.85385,     0.85485,     0.85586,     0.85686,     0.85786,     0.85886,     0.85986,     0.86086,     0.86186,     0.86286,     0.86386,\n",
       "           0.86486,     0.86587,     0.86687,     0.86787,     0.86887,     0.86987,     0.87087,     0.87187,     0.87287,     0.87387,     0.87487,     0.87588,     0.87688,     0.87788,     0.87888,     0.87988,     0.88088,     0.88188,     0.88288,     0.88388,     0.88488,     0.88589,     0.88689,     0.88789,\n",
       "           0.88889,     0.88989,     0.89089,     0.89189,     0.89289,     0.89389,     0.89489,      0.8959,      0.8969,      0.8979,      0.8989,      0.8999,      0.9009,      0.9019,      0.9029,      0.9039,      0.9049,     0.90591,     0.90691,     0.90791,     0.90891,     0.90991,     0.91091,     0.91191,\n",
       "           0.91291,     0.91391,     0.91491,     0.91592,     0.91692,     0.91792,     0.91892,     0.91992,     0.92092,     0.92192,     0.92292,     0.92392,     0.92492,     0.92593,     0.92693,     0.92793,     0.92893,     0.92993,     0.93093,     0.93193,     0.93293,     0.93393,     0.93493,     0.93594,\n",
       "           0.93694,     0.93794,     0.93894,     0.93994,     0.94094,     0.94194,     0.94294,     0.94394,     0.94494,     0.94595,     0.94695,     0.94795,     0.94895,     0.94995,     0.95095,     0.95195,     0.95295,     0.95395,     0.95495,     0.95596,     0.95696,     0.95796,     0.95896,     0.95996,\n",
       "           0.96096,     0.96196,     0.96296,     0.96396,     0.96496,     0.96597,     0.96697,     0.96797,     0.96897,     0.96997,     0.97097,     0.97197,     0.97297,     0.97397,     0.97497,     0.97598,     0.97698,     0.97798,     0.97898,     0.97998,     0.98098,     0.98198,     0.98298,     0.98398,\n",
       "           0.98498,     0.98599,     0.98699,     0.98799,     0.98899,     0.98999,     0.99099,     0.99199,     0.99299,     0.99399,     0.99499,       0.996,       0.997,       0.998,       0.999,           1]), array([[  0.0067894,   0.0067894,   0.0068878,    0.021915,    0.087969,     0.16086,     0.20636,     0.24839,     0.28507,     0.31361,     0.33222,     0.35181,     0.36856,     0.38802,     0.40059,      0.4151,     0.43027,      0.4393,     0.45323,     0.46327,     0.47008,     0.48209,     0.49144,\n",
       "            0.50377,     0.50788,      0.5138,     0.51662,     0.52321,     0.52666,      0.5329,     0.53887,     0.54694,     0.55292,     0.55421,     0.56047,     0.56415,     0.57127,     0.57599,     0.57763,     0.58162,     0.58649,     0.59076,      0.5944,     0.60022,     0.60305,     0.60622,\n",
       "            0.61042,      0.6121,      0.6143,     0.61834,     0.62866,     0.63326,     0.63585,     0.63779,     0.64041,     0.64694,     0.64963,     0.65119,     0.65231,     0.65344,     0.65543,     0.65698,     0.65798,     0.65898,     0.66073,     0.66934,     0.67093,     0.67302,     0.67786,\n",
       "            0.68313,      0.6856,     0.68771,     0.68949,     0.69348,     0.69583,     0.69739,     0.69807,     0.69855,     0.69904,     0.69952,     0.70001,     0.70226,     0.70702,     0.70915,     0.70974,     0.71033,     0.71092,     0.71032,     0.71082,     0.71131,     0.71181,      0.7123,\n",
       "             0.7128,     0.71433,     0.71653,     0.71744,     0.71835,     0.71961,     0.72136,     0.72355,     0.72498,     0.72554,      0.7261,     0.72666,     0.72722,     0.72818,     0.73032,     0.72982,     0.73359,     0.73576,     0.73664,     0.73753,     0.73841,     0.73954,     0.74075,\n",
       "            0.74192,       0.743,     0.74408,     0.74551,     0.74757,      0.7483,     0.74878,     0.74925,     0.74973,     0.75021,     0.75068,      0.7521,     0.75555,     0.75765,     0.75872,     0.75979,     0.76274,     0.76588,     0.76772,     0.76905,     0.77038,     0.77382,     0.77367,\n",
       "            0.77351,     0.77335,      0.7732,     0.77304,     0.77488,     0.77675,     0.77728,     0.77781,     0.77834,     0.77886,     0.77939,     0.77981,     0.78002,     0.78023,     0.78044,     0.78065,     0.78086,     0.78107,     0.78128,     0.78149,      0.7817,     0.78191,     0.78212,\n",
       "            0.78233,     0.78254,     0.78275,     0.78295,     0.78316,     0.78335,     0.78354,     0.78373,     0.78392,     0.78411,     0.78429,     0.78448,     0.78467,     0.78486,     0.78505,     0.78523,     0.78542,     0.78561,      0.7858,     0.78598,     0.78617,     0.78636,     0.78655,\n",
       "            0.78788,     0.79046,     0.79141,     0.79235,      0.7933,     0.79396,     0.79438,     0.79481,     0.79523,     0.79566,     0.79608,     0.79651,     0.79693,      0.7974,     0.79817,     0.79893,      0.7997,     0.80046,     0.80074,     0.80034,     0.79999,      0.7999,     0.79981,\n",
       "            0.79972,     0.79964,     0.79955,     0.79946,     0.79937,     0.79929,      0.7992,     0.79911,     0.80304,     0.80412,      0.8052,     0.80628,     0.80671,     0.80702,     0.80733,     0.80764,     0.80795,     0.80826,     0.80857,     0.80888,     0.80918,     0.80949,      0.8098,\n",
       "            0.81011,     0.81226,     0.81412,     0.81457,     0.81501,     0.81546,      0.8159,     0.81635,     0.81679,     0.81724,     0.81768,     0.82015,     0.82273,       0.825,     0.82559,     0.82573,     0.82587,     0.82602,     0.82616,      0.8263,     0.82645,     0.82659,     0.82674,\n",
       "            0.82688,     0.82702,     0.82717,     0.82731,     0.82746,      0.8276,     0.82774,     0.82789,     0.82803,     0.82817,     0.82832,     0.82846,     0.82861,     0.82875,     0.82889,     0.82904,     0.82918,     0.82932,     0.82931,     0.82919,     0.82907,     0.82895,     0.82883,\n",
       "            0.82871,     0.82859,     0.82904,     0.82959,     0.83014,      0.8307,     0.83125,      0.8318,     0.83236,     0.83427,     0.83656,     0.83678,     0.83699,     0.83721,     0.83742,     0.83763,     0.83785,     0.83806,     0.83828,     0.83849,     0.83871,     0.83892,     0.83913,\n",
       "            0.83935,     0.83956,     0.83978,     0.83999,      0.8402,     0.84042,      0.8447,     0.84523,     0.84575,     0.84628,     0.84681,     0.84733,     0.84786,     0.84839,     0.84871,     0.84845,     0.84819,     0.84811,     0.84826,     0.84841,     0.84856,     0.84871,     0.84887,\n",
       "            0.84902,     0.84917,     0.84932,     0.84947,     0.84962,     0.84978,     0.84993,     0.85008,     0.85023,     0.85038,     0.85053,     0.85069,     0.85084,     0.85099,     0.85114,     0.85129,     0.85144,      0.8516,     0.85175,      0.8519,     0.85205,      0.8522,     0.85218,\n",
       "            0.85214,      0.8521,     0.85206,     0.85202,     0.85198,     0.85195,     0.85191,     0.85187,     0.85183,     0.85179,     0.85175,     0.85171,     0.85167,     0.85163,     0.85159,     0.85155,     0.85151,     0.85163,     0.85213,     0.85263,     0.85314,     0.85364,     0.85414,\n",
       "            0.85465,     0.85515,     0.85565,     0.86435,     0.86463,     0.86491,     0.86518,     0.86546,     0.86574,     0.86601,     0.86629,     0.86657,     0.86685,     0.86712,      0.8674,     0.86768,     0.86795,     0.86823,     0.86851,     0.86874,     0.86889,     0.86904,     0.86919,\n",
       "            0.86934,     0.86949,     0.86964,     0.86979,     0.86994,      0.8701,     0.87025,      0.8704,     0.87055,      0.8707,     0.87085,       0.871,     0.87115,      0.8713,     0.87145,      0.8716,     0.87175,      0.8719,     0.87205,      0.8722,     0.87235,      0.8725,     0.87265,\n",
       "            0.87281,     0.87296,     0.87309,     0.87302,     0.87294,     0.87286,     0.87279,     0.87271,     0.87263,     0.87256,     0.87248,     0.87272,     0.87319,     0.87366,     0.87413,      0.8746,     0.87507,     0.87554,     0.87601,     0.87648,     0.87698,     0.87805,     0.87912,\n",
       "            0.88018,     0.88125,     0.88167,     0.88196,     0.88224,     0.88252,      0.8828,     0.88308,     0.88336,     0.88365,     0.88393,     0.88421,     0.88449,     0.88477,     0.88506,     0.88534,     0.88562,      0.8859,     0.88597,      0.8859,     0.88583,     0.88576,      0.8857,\n",
       "            0.88563,     0.88556,     0.88549,     0.88542,      0.8862,     0.88706,     0.88792,     0.88878,     0.88964,     0.89002,     0.88995,     0.88988,     0.88981,     0.88975,     0.88968,     0.88961,     0.88955,     0.88948,     0.88968,     0.88991,     0.89014,     0.89036,     0.89059,\n",
       "            0.89081,     0.89104,     0.89127,     0.89149,     0.89172,     0.89194,     0.89217,      0.8924,     0.89262,     0.89285,     0.89307,      0.8933,     0.89353,     0.89375,     0.89398,     0.89427,     0.89511,     0.89595,     0.89679,     0.89763,     0.89847,     0.89951,     0.90079,\n",
       "            0.90207,     0.90334,     0.90371,     0.90367,     0.90363,     0.90358,     0.90354,     0.90349,     0.90345,     0.90341,     0.90336,     0.90332,     0.90328,     0.90323,      0.9037,     0.90425,      0.9048,     0.90535,     0.90591,     0.90646,     0.90701,     0.90757,     0.90818,\n",
       "             0.9116,       0.913,     0.91293,     0.91285,     0.91278,      0.9127,     0.91263,     0.91256,     0.91251,     0.91247,     0.91242,     0.91238,     0.91233,     0.91228,     0.91224,     0.91219,     0.91215,      0.9121,     0.91201,      0.9119,     0.91179,     0.91168,      0.9117,\n",
       "             0.9121,     0.91249,     0.91289,     0.91328,     0.91368,     0.91407,     0.91447,     0.91486,     0.91526,     0.91565,     0.91605,     0.91644,     0.91696,     0.91763,      0.9183,     0.91897,     0.91964,     0.92031,     0.92098,     0.92165,     0.92752,     0.92897,     0.93042,\n",
       "            0.93188,     0.93242,     0.93271,     0.93299,     0.93328,     0.93356,     0.93385,     0.93413,     0.93442,      0.9347,     0.93499,     0.93527,     0.93555,     0.93584,     0.93612,     0.93641,     0.93669,     0.93698,     0.93726,     0.93757,     0.93802,     0.93847,     0.93893,\n",
       "            0.93938,     0.93983,     0.94028,     0.94073,     0.94118,     0.94163,     0.94208,     0.94253,     0.94286,     0.94285,     0.94285,     0.94284,     0.94284,     0.94283,     0.94283,     0.94282,     0.94282,     0.94282,     0.94281,     0.94281,      0.9428,      0.9428,     0.94279,\n",
       "            0.94279,     0.94278,     0.94278,     0.94278,     0.94277,     0.94277,     0.94276,     0.94276,     0.94275,     0.94275,     0.94275,     0.94274,     0.94274,     0.94273,     0.94273,     0.94272,     0.94272,     0.94271,     0.94271,     0.94271,      0.9427,      0.9427,     0.94269,\n",
       "            0.94269,     0.94268,     0.94268,     0.94267,     0.94267,     0.94267,     0.94266,     0.94266,     0.94265,     0.94265,     0.94264,     0.94264,     0.94263,     0.94263,     0.94263,     0.94262,     0.94262,     0.94261,     0.94261,      0.9426,      0.9426,     0.94259,     0.94259,\n",
       "            0.94259,     0.94258,     0.94258,     0.94257,     0.94257,     0.94256,     0.94256,     0.94255,     0.94255,     0.94255,     0.94254,     0.94254,     0.94253,     0.94252,     0.94248,     0.94244,     0.94239,     0.94235,     0.94231,     0.94227,     0.94223,     0.94227,     0.94256,\n",
       "            0.94284,     0.94312,      0.9434,     0.94368,     0.94397,     0.94425,     0.94453,     0.94481,      0.9451,     0.94538,     0.94566,     0.94594,     0.94623,     0.94651,     0.94679,     0.94707,     0.94735,     0.94764,     0.94762,     0.94756,      0.9475,     0.94743,     0.94737,\n",
       "            0.94707,     0.95089,     0.95266,     0.95265,     0.95263,     0.95262,     0.95261,      0.9526,     0.95259,     0.95258,     0.95257,     0.95256,     0.95255,     0.95254,     0.95253,     0.95252,      0.9525,     0.95249,     0.95248,     0.95247,     0.95246,     0.95245,     0.95244,\n",
       "            0.95243,     0.95242,     0.95241,      0.9524,     0.95238,     0.95234,     0.95228,     0.95223,     0.95217,     0.95211,     0.95246,     0.95293,      0.9534,     0.95386,     0.95433,      0.9548,     0.95527,     0.95574,      0.9562,     0.95667,     0.95714,     0.95761,     0.95781,\n",
       "            0.95777,     0.95773,     0.95769,     0.95765,      0.9576,     0.95756,      0.9575,     0.95745,     0.95739,     0.95733,      0.9573,     0.95727,     0.95725,     0.95722,     0.95719,     0.95717,     0.95714,     0.95711,     0.95709,     0.95706,     0.95814,      0.9596,     0.96106,\n",
       "            0.96252,     0.96282,     0.96272,     0.96269,     0.96267,     0.96264,     0.96261,     0.96259,     0.96256,     0.96253,     0.96251,     0.96378,     0.96566,     0.96755,     0.96855,     0.96853,     0.96852,     0.96851,     0.96849,     0.96848,     0.96846,     0.96845,     0.96844,\n",
       "            0.96842,     0.96841,     0.96839,     0.96838,     0.96837,     0.96835,     0.96831,     0.96828,     0.96825,     0.96821,     0.96818,     0.96813,     0.96805,     0.96797,     0.96774,     0.96773,     0.96771,      0.9677,     0.96769,     0.96768,     0.96767,     0.96766,     0.96765,\n",
       "            0.96764,     0.96763,     0.96762,     0.96761,      0.9676,     0.96759,     0.96758,     0.96757,     0.96756,     0.96755,     0.96754,     0.96744,     0.96732,      0.9673,     0.96729,     0.96727,     0.96726,     0.96724,     0.96723,     0.96721,      0.9672,     0.96718,     0.96716,\n",
       "            0.96715,     0.96713,     0.96712,     0.96709,     0.96702,     0.96696,     0.96689,     0.97332,     0.97329,     0.97325,     0.97321,     0.97318,     0.97313,     0.97307,     0.97301,     0.97295,     0.97291,     0.97287,     0.97283,     0.97279,     0.97943,     0.97936,      0.9793,\n",
       "            0.97927,     0.97924,     0.97921,     0.97918,     0.98601,       0.986,     0.98599,     0.98598,     0.98597,     0.98596,     0.98595,     0.98594,     0.98593,     0.98591,     0.98584,      0.9858,     0.98578,     0.98575,     0.98573,      0.9857,     0.98566,     0.98561,     0.98549,\n",
       "            0.98535,     0.98517,     0.98511,     0.98494,     0.98487,     0.98475,     0.98461,     0.98451,      0.9843,     0.98787,     0.99205,     0.99201,     0.99199,     0.99198,     0.99197,     0.99196,     0.99195,     0.99194,     0.99183,     0.99158,     0.99151,     0.99149,     0.99147,\n",
       "            0.99145,      0.9914,     0.99133,     0.99112,     0.99098,     0.99087,     0.99077,     0.99069,     0.99062,     0.99043,     0.99024,     0.99014,     0.98997,     0.98974,     0.98954,     0.98947,     0.98941,      0.9893,     0.98911,     0.98876,      0.9887,     0.98865,     0.98842,\n",
       "            0.98832,     0.98825,     0.98787,           1,           1,           1,           1,           1,           1,           1,           1,           1,           1,           1,           1,           1,           1,           1,           1,           1,           1,           1,           1,\n",
       "                  1,           1,           1,           1,           1,           1,           1,           1,           1,           1,           1,           1,           1,           1,           1,           1,           1,           1,           1,           1,           1,           1,           1,\n",
       "                  1,           1,           1,           1,           1,           1,           1,           1,           1,           1,           1]]), 'Confidence', 'Precision'], [array([          0,    0.001001,    0.002002,    0.003003,    0.004004,    0.005005,    0.006006,    0.007007,    0.008008,    0.009009,     0.01001,    0.011011,    0.012012,    0.013013,    0.014014,    0.015015,    0.016016,    0.017017,    0.018018,    0.019019,     0.02002,    0.021021,    0.022022,    0.023023,\n",
       "          0.024024,    0.025025,    0.026026,    0.027027,    0.028028,    0.029029,     0.03003,    0.031031,    0.032032,    0.033033,    0.034034,    0.035035,    0.036036,    0.037037,    0.038038,    0.039039,     0.04004,    0.041041,    0.042042,    0.043043,    0.044044,    0.045045,    0.046046,    0.047047,\n",
       "          0.048048,    0.049049,     0.05005,    0.051051,    0.052052,    0.053053,    0.054054,    0.055055,    0.056056,    0.057057,    0.058058,    0.059059,     0.06006,    0.061061,    0.062062,    0.063063,    0.064064,    0.065065,    0.066066,    0.067067,    0.068068,    0.069069,     0.07007,    0.071071,\n",
       "          0.072072,    0.073073,    0.074074,    0.075075,    0.076076,    0.077077,    0.078078,    0.079079,     0.08008,    0.081081,    0.082082,    0.083083,    0.084084,    0.085085,    0.086086,    0.087087,    0.088088,    0.089089,     0.09009,    0.091091,    0.092092,    0.093093,    0.094094,    0.095095,\n",
       "          0.096096,    0.097097,    0.098098,    0.099099,      0.1001,      0.1011,      0.1021,      0.1031,      0.1041,     0.10511,     0.10611,     0.10711,     0.10811,     0.10911,     0.11011,     0.11111,     0.11211,     0.11311,     0.11411,     0.11512,     0.11612,     0.11712,     0.11812,     0.11912,\n",
       "           0.12012,     0.12112,     0.12212,     0.12312,     0.12412,     0.12513,     0.12613,     0.12713,     0.12813,     0.12913,     0.13013,     0.13113,     0.13213,     0.13313,     0.13413,     0.13514,     0.13614,     0.13714,     0.13814,     0.13914,     0.14014,     0.14114,     0.14214,     0.14314,\n",
       "           0.14414,     0.14515,     0.14615,     0.14715,     0.14815,     0.14915,     0.15015,     0.15115,     0.15215,     0.15315,     0.15415,     0.15516,     0.15616,     0.15716,     0.15816,     0.15916,     0.16016,     0.16116,     0.16216,     0.16316,     0.16416,     0.16517,     0.16617,     0.16717,\n",
       "           0.16817,     0.16917,     0.17017,     0.17117,     0.17217,     0.17317,     0.17417,     0.17518,     0.17618,     0.17718,     0.17818,     0.17918,     0.18018,     0.18118,     0.18218,     0.18318,     0.18418,     0.18519,     0.18619,     0.18719,     0.18819,     0.18919,     0.19019,     0.19119,\n",
       "           0.19219,     0.19319,     0.19419,      0.1952,      0.1962,      0.1972,      0.1982,      0.1992,      0.2002,      0.2012,      0.2022,      0.2032,      0.2042,     0.20521,     0.20621,     0.20721,     0.20821,     0.20921,     0.21021,     0.21121,     0.21221,     0.21321,     0.21421,     0.21522,\n",
       "           0.21622,     0.21722,     0.21822,     0.21922,     0.22022,     0.22122,     0.22222,     0.22322,     0.22422,     0.22523,     0.22623,     0.22723,     0.22823,     0.22923,     0.23023,     0.23123,     0.23223,     0.23323,     0.23423,     0.23524,     0.23624,     0.23724,     0.23824,     0.23924,\n",
       "           0.24024,     0.24124,     0.24224,     0.24324,     0.24424,     0.24525,     0.24625,     0.24725,     0.24825,     0.24925,     0.25025,     0.25125,     0.25225,     0.25325,     0.25425,     0.25526,     0.25626,     0.25726,     0.25826,     0.25926,     0.26026,     0.26126,     0.26226,     0.26326,\n",
       "           0.26426,     0.26527,     0.26627,     0.26727,     0.26827,     0.26927,     0.27027,     0.27127,     0.27227,     0.27327,     0.27427,     0.27528,     0.27628,     0.27728,     0.27828,     0.27928,     0.28028,     0.28128,     0.28228,     0.28328,     0.28428,     0.28529,     0.28629,     0.28729,\n",
       "           0.28829,     0.28929,     0.29029,     0.29129,     0.29229,     0.29329,     0.29429,      0.2953,      0.2963,      0.2973,      0.2983,      0.2993,      0.3003,      0.3013,      0.3023,      0.3033,      0.3043,     0.30531,     0.30631,     0.30731,     0.30831,     0.30931,     0.31031,     0.31131,\n",
       "           0.31231,     0.31331,     0.31431,     0.31532,     0.31632,     0.31732,     0.31832,     0.31932,     0.32032,     0.32132,     0.32232,     0.32332,     0.32432,     0.32533,     0.32633,     0.32733,     0.32833,     0.32933,     0.33033,     0.33133,     0.33233,     0.33333,     0.33433,     0.33534,\n",
       "           0.33634,     0.33734,     0.33834,     0.33934,     0.34034,     0.34134,     0.34234,     0.34334,     0.34434,     0.34535,     0.34635,     0.34735,     0.34835,     0.34935,     0.35035,     0.35135,     0.35235,     0.35335,     0.35435,     0.35536,     0.35636,     0.35736,     0.35836,     0.35936,\n",
       "           0.36036,     0.36136,     0.36236,     0.36336,     0.36436,     0.36537,     0.36637,     0.36737,     0.36837,     0.36937,     0.37037,     0.37137,     0.37237,     0.37337,     0.37437,     0.37538,     0.37638,     0.37738,     0.37838,     0.37938,     0.38038,     0.38138,     0.38238,     0.38338,\n",
       "           0.38438,     0.38539,     0.38639,     0.38739,     0.38839,     0.38939,     0.39039,     0.39139,     0.39239,     0.39339,     0.39439,      0.3954,      0.3964,      0.3974,      0.3984,      0.3994,      0.4004,      0.4014,      0.4024,      0.4034,      0.4044,     0.40541,     0.40641,     0.40741,\n",
       "           0.40841,     0.40941,     0.41041,     0.41141,     0.41241,     0.41341,     0.41441,     0.41542,     0.41642,     0.41742,     0.41842,     0.41942,     0.42042,     0.42142,     0.42242,     0.42342,     0.42442,     0.42543,     0.42643,     0.42743,     0.42843,     0.42943,     0.43043,     0.43143,\n",
       "           0.43243,     0.43343,     0.43443,     0.43544,     0.43644,     0.43744,     0.43844,     0.43944,     0.44044,     0.44144,     0.44244,     0.44344,     0.44444,     0.44545,     0.44645,     0.44745,     0.44845,     0.44945,     0.45045,     0.45145,     0.45245,     0.45345,     0.45445,     0.45546,\n",
       "           0.45646,     0.45746,     0.45846,     0.45946,     0.46046,     0.46146,     0.46246,     0.46346,     0.46446,     0.46547,     0.46647,     0.46747,     0.46847,     0.46947,     0.47047,     0.47147,     0.47247,     0.47347,     0.47447,     0.47548,     0.47648,     0.47748,     0.47848,     0.47948,\n",
       "           0.48048,     0.48148,     0.48248,     0.48348,     0.48448,     0.48549,     0.48649,     0.48749,     0.48849,     0.48949,     0.49049,     0.49149,     0.49249,     0.49349,     0.49449,      0.4955,      0.4965,      0.4975,      0.4985,      0.4995,      0.5005,      0.5015,      0.5025,      0.5035,\n",
       "            0.5045,     0.50551,     0.50651,     0.50751,     0.50851,     0.50951,     0.51051,     0.51151,     0.51251,     0.51351,     0.51451,     0.51552,     0.51652,     0.51752,     0.51852,     0.51952,     0.52052,     0.52152,     0.52252,     0.52352,     0.52452,     0.52553,     0.52653,     0.52753,\n",
       "           0.52853,     0.52953,     0.53053,     0.53153,     0.53253,     0.53353,     0.53453,     0.53554,     0.53654,     0.53754,     0.53854,     0.53954,     0.54054,     0.54154,     0.54254,     0.54354,     0.54454,     0.54555,     0.54655,     0.54755,     0.54855,     0.54955,     0.55055,     0.55155,\n",
       "           0.55255,     0.55355,     0.55455,     0.55556,     0.55656,     0.55756,     0.55856,     0.55956,     0.56056,     0.56156,     0.56256,     0.56356,     0.56456,     0.56557,     0.56657,     0.56757,     0.56857,     0.56957,     0.57057,     0.57157,     0.57257,     0.57357,     0.57457,     0.57558,\n",
       "           0.57658,     0.57758,     0.57858,     0.57958,     0.58058,     0.58158,     0.58258,     0.58358,     0.58458,     0.58559,     0.58659,     0.58759,     0.58859,     0.58959,     0.59059,     0.59159,     0.59259,     0.59359,     0.59459,      0.5956,      0.5966,      0.5976,      0.5986,      0.5996,\n",
       "            0.6006,      0.6016,      0.6026,      0.6036,      0.6046,     0.60561,     0.60661,     0.60761,     0.60861,     0.60961,     0.61061,     0.61161,     0.61261,     0.61361,     0.61461,     0.61562,     0.61662,     0.61762,     0.61862,     0.61962,     0.62062,     0.62162,     0.62262,     0.62362,\n",
       "           0.62462,     0.62563,     0.62663,     0.62763,     0.62863,     0.62963,     0.63063,     0.63163,     0.63263,     0.63363,     0.63463,     0.63564,     0.63664,     0.63764,     0.63864,     0.63964,     0.64064,     0.64164,     0.64264,     0.64364,     0.64464,     0.64565,     0.64665,     0.64765,\n",
       "           0.64865,     0.64965,     0.65065,     0.65165,     0.65265,     0.65365,     0.65465,     0.65566,     0.65666,     0.65766,     0.65866,     0.65966,     0.66066,     0.66166,     0.66266,     0.66366,     0.66466,     0.66567,     0.66667,     0.66767,     0.66867,     0.66967,     0.67067,     0.67167,\n",
       "           0.67267,     0.67367,     0.67467,     0.67568,     0.67668,     0.67768,     0.67868,     0.67968,     0.68068,     0.68168,     0.68268,     0.68368,     0.68468,     0.68569,     0.68669,     0.68769,     0.68869,     0.68969,     0.69069,     0.69169,     0.69269,     0.69369,     0.69469,      0.6957,\n",
       "            0.6967,      0.6977,      0.6987,      0.6997,      0.7007,      0.7017,      0.7027,      0.7037,      0.7047,     0.70571,     0.70671,     0.70771,     0.70871,     0.70971,     0.71071,     0.71171,     0.71271,     0.71371,     0.71471,     0.71572,     0.71672,     0.71772,     0.71872,     0.71972,\n",
       "           0.72072,     0.72172,     0.72272,     0.72372,     0.72472,     0.72573,     0.72673,     0.72773,     0.72873,     0.72973,     0.73073,     0.73173,     0.73273,     0.73373,     0.73473,     0.73574,     0.73674,     0.73774,     0.73874,     0.73974,     0.74074,     0.74174,     0.74274,     0.74374,\n",
       "           0.74474,     0.74575,     0.74675,     0.74775,     0.74875,     0.74975,     0.75075,     0.75175,     0.75275,     0.75375,     0.75475,     0.75576,     0.75676,     0.75776,     0.75876,     0.75976,     0.76076,     0.76176,     0.76276,     0.76376,     0.76476,     0.76577,     0.76677,     0.76777,\n",
       "           0.76877,     0.76977,     0.77077,     0.77177,     0.77277,     0.77377,     0.77477,     0.77578,     0.77678,     0.77778,     0.77878,     0.77978,     0.78078,     0.78178,     0.78278,     0.78378,     0.78478,     0.78579,     0.78679,     0.78779,     0.78879,     0.78979,     0.79079,     0.79179,\n",
       "           0.79279,     0.79379,     0.79479,      0.7958,      0.7968,      0.7978,      0.7988,      0.7998,      0.8008,      0.8018,      0.8028,      0.8038,      0.8048,     0.80581,     0.80681,     0.80781,     0.80881,     0.80981,     0.81081,     0.81181,     0.81281,     0.81381,     0.81481,     0.81582,\n",
       "           0.81682,     0.81782,     0.81882,     0.81982,     0.82082,     0.82182,     0.82282,     0.82382,     0.82482,     0.82583,     0.82683,     0.82783,     0.82883,     0.82983,     0.83083,     0.83183,     0.83283,     0.83383,     0.83483,     0.83584,     0.83684,     0.83784,     0.83884,     0.83984,\n",
       "           0.84084,     0.84184,     0.84284,     0.84384,     0.84484,     0.84585,     0.84685,     0.84785,     0.84885,     0.84985,     0.85085,     0.85185,     0.85285,     0.85385,     0.85485,     0.85586,     0.85686,     0.85786,     0.85886,     0.85986,     0.86086,     0.86186,     0.86286,     0.86386,\n",
       "           0.86486,     0.86587,     0.86687,     0.86787,     0.86887,     0.86987,     0.87087,     0.87187,     0.87287,     0.87387,     0.87487,     0.87588,     0.87688,     0.87788,     0.87888,     0.87988,     0.88088,     0.88188,     0.88288,     0.88388,     0.88488,     0.88589,     0.88689,     0.88789,\n",
       "           0.88889,     0.88989,     0.89089,     0.89189,     0.89289,     0.89389,     0.89489,      0.8959,      0.8969,      0.8979,      0.8989,      0.8999,      0.9009,      0.9019,      0.9029,      0.9039,      0.9049,     0.90591,     0.90691,     0.90791,     0.90891,     0.90991,     0.91091,     0.91191,\n",
       "           0.91291,     0.91391,     0.91491,     0.91592,     0.91692,     0.91792,     0.91892,     0.91992,     0.92092,     0.92192,     0.92292,     0.92392,     0.92492,     0.92593,     0.92693,     0.92793,     0.92893,     0.92993,     0.93093,     0.93193,     0.93293,     0.93393,     0.93493,     0.93594,\n",
       "           0.93694,     0.93794,     0.93894,     0.93994,     0.94094,     0.94194,     0.94294,     0.94394,     0.94494,     0.94595,     0.94695,     0.94795,     0.94895,     0.94995,     0.95095,     0.95195,     0.95295,     0.95395,     0.95495,     0.95596,     0.95696,     0.95796,     0.95896,     0.95996,\n",
       "           0.96096,     0.96196,     0.96296,     0.96396,     0.96496,     0.96597,     0.96697,     0.96797,     0.96897,     0.96997,     0.97097,     0.97197,     0.97297,     0.97397,     0.97497,     0.97598,     0.97698,     0.97798,     0.97898,     0.97998,     0.98098,     0.98198,     0.98298,     0.98398,\n",
       "           0.98498,     0.98599,     0.98699,     0.98799,     0.98899,     0.98999,     0.99099,     0.99199,     0.99299,     0.99399,     0.99499,       0.996,       0.997,       0.998,       0.999,           1]), array([[    0.98964,     0.98964,     0.98964,     0.98964,     0.98446,     0.97409,     0.97409,     0.96891,     0.96891,     0.96891,     0.96891,     0.96891,     0.96891,     0.96891,     0.96373,     0.96373,     0.96373,     0.96373,     0.96373,     0.96373,     0.95337,     0.95337,     0.95337,\n",
       "            0.95337,     0.95337,     0.95337,     0.95337,     0.95337,     0.95337,     0.95337,     0.95337,     0.95337,     0.95337,     0.95337,     0.95337,     0.95337,     0.95337,     0.95337,     0.95337,     0.95337,     0.95337,     0.94819,     0.94819,     0.94301,     0.94301,     0.94301,\n",
       "            0.94301,     0.94025,     0.93782,     0.93782,     0.93782,     0.93782,     0.93782,     0.93782,     0.93782,     0.93782,     0.93782,     0.93782,     0.93782,     0.93782,     0.93782,     0.93264,     0.93264,     0.93264,     0.93264,     0.93264,     0.93264,     0.93264,     0.93264,\n",
       "            0.93264,     0.93264,     0.93264,     0.93264,     0.93264,     0.93264,     0.93264,     0.93264,     0.93264,     0.93264,     0.93264,     0.93264,     0.93264,     0.93264,     0.93264,     0.93264,     0.93264,     0.93264,     0.92746,     0.92746,     0.92746,     0.92746,     0.92746,\n",
       "            0.92746,     0.92746,     0.92746,     0.92746,     0.92746,     0.92746,     0.92746,     0.92746,     0.92746,     0.92746,     0.92746,     0.92746,     0.92746,     0.92746,     0.92746,     0.92373,     0.92228,     0.92228,     0.92228,     0.92228,     0.92228,     0.92228,     0.92228,\n",
       "            0.92228,     0.92228,     0.92228,     0.92228,     0.92228,     0.92228,     0.92228,     0.92228,     0.92228,     0.92228,     0.92228,     0.92228,     0.92228,     0.92228,     0.92228,     0.92228,     0.92228,     0.92228,     0.92228,     0.92228,     0.92228,      0.9218,     0.92098,\n",
       "            0.92017,     0.91935,     0.91853,     0.91772,      0.9171,      0.9171,      0.9171,      0.9171,      0.9171,      0.9171,      0.9171,      0.9171,      0.9171,      0.9171,      0.9171,      0.9171,      0.9171,      0.9171,      0.9171,      0.9171,      0.9171,      0.9171,      0.9171,\n",
       "             0.9171,      0.9171,      0.9171,      0.9171,      0.9171,      0.9171,      0.9171,      0.9171,      0.9171,      0.9171,      0.9171,      0.9171,      0.9171,      0.9171,      0.9171,      0.9171,      0.9171,      0.9171,      0.9171,      0.9171,      0.9171,      0.9171,      0.9171,\n",
       "             0.9171,      0.9171,      0.9171,      0.9171,      0.9171,      0.9171,      0.9171,      0.9171,      0.9171,      0.9171,      0.9171,      0.9171,      0.9171,      0.9171,      0.9171,      0.9171,      0.9171,      0.9171,     0.91614,     0.91386,     0.91184,     0.91135,     0.91085,\n",
       "            0.91035,     0.90985,     0.90936,     0.90886,     0.90836,     0.90786,     0.90737,     0.90687,     0.90674,     0.90674,     0.90674,     0.90674,     0.90674,     0.90674,     0.90674,     0.90674,     0.90674,     0.90674,     0.90674,     0.90674,     0.90674,     0.90674,     0.90674,\n",
       "            0.90674,     0.90674,     0.90674,     0.90674,     0.90674,     0.90674,     0.90674,     0.90674,     0.90674,     0.90674,     0.90674,     0.90674,     0.90674,     0.90674,     0.90674,     0.90674,     0.90674,     0.90674,     0.90674,     0.90674,     0.90674,     0.90674,     0.90674,\n",
       "            0.90674,     0.90674,     0.90674,     0.90674,     0.90674,     0.90674,     0.90674,     0.90674,     0.90674,     0.90674,     0.90674,     0.90674,     0.90674,     0.90674,     0.90674,     0.90674,     0.90674,     0.90674,     0.90628,     0.90552,     0.90475,     0.90398,     0.90321,\n",
       "            0.90244,     0.90168,     0.90155,     0.90155,     0.90155,     0.90155,     0.90155,     0.90155,     0.90155,     0.90155,     0.90155,     0.90155,     0.90155,     0.90155,     0.90155,     0.90155,     0.90155,     0.90155,     0.90155,     0.90155,     0.90155,     0.90155,     0.90155,\n",
       "            0.90155,     0.90155,     0.90155,     0.90155,     0.90155,     0.90155,     0.90155,     0.90155,     0.90155,     0.90155,     0.90155,     0.90155,     0.90155,     0.90155,     0.90109,     0.89924,     0.89739,     0.89637,     0.89637,     0.89637,     0.89637,     0.89637,     0.89637,\n",
       "            0.89637,     0.89637,     0.89637,     0.89637,     0.89637,     0.89637,     0.89637,     0.89637,     0.89637,     0.89637,     0.89637,     0.89637,     0.89637,     0.89637,     0.89637,     0.89637,     0.89637,     0.89637,     0.89637,     0.89637,     0.89637,     0.89637,     0.89612,\n",
       "            0.89584,     0.89556,     0.89529,     0.89501,     0.89473,     0.89445,     0.89417,     0.89389,     0.89362,     0.89334,     0.89306,     0.89278,      0.8925,     0.89223,     0.89195,     0.89167,     0.89139,     0.89119,     0.89119,     0.89119,     0.89119,     0.89119,     0.89119,\n",
       "            0.89119,     0.89119,     0.89119,     0.89119,     0.89119,     0.89119,     0.89119,     0.89119,     0.89119,     0.89119,     0.89119,     0.89119,     0.89119,     0.89119,     0.89119,     0.89119,     0.89119,     0.89119,     0.89119,     0.89119,     0.89119,     0.89119,     0.89119,\n",
       "            0.89119,     0.89119,     0.89119,     0.89119,     0.89119,     0.89119,     0.89119,     0.89119,     0.89119,     0.89119,     0.89119,     0.89119,     0.89119,     0.89119,     0.89119,     0.89119,     0.89119,     0.89119,     0.89119,     0.89119,     0.89119,     0.89119,     0.89119,\n",
       "            0.89119,     0.89119,     0.89115,     0.89054,     0.88993,     0.88932,     0.88871,      0.8881,     0.88749,     0.88688,     0.88627,     0.88601,     0.88601,     0.88601,     0.88601,     0.88601,     0.88601,     0.88601,     0.88601,     0.88601,     0.88601,     0.88601,     0.88601,\n",
       "            0.88601,     0.88601,     0.88601,     0.88601,     0.88601,     0.88601,     0.88601,     0.88601,     0.88601,     0.88601,     0.88601,     0.88601,     0.88601,     0.88601,     0.88601,     0.88601,     0.88601,     0.88601,     0.88565,     0.88505,     0.88446,     0.88386,     0.88327,\n",
       "            0.88267,     0.88208,     0.88148,     0.88089,     0.88083,     0.88083,     0.88083,     0.88083,     0.88083,     0.88051,     0.87991,     0.87931,      0.8787,      0.8781,      0.8775,     0.87689,     0.87629,     0.87569,     0.87565,     0.87565,     0.87565,     0.87565,     0.87565,\n",
       "            0.87565,     0.87565,     0.87565,     0.87565,     0.87565,     0.87565,     0.87565,     0.87565,     0.87565,     0.87565,     0.87565,     0.87565,     0.87565,     0.87565,     0.87565,     0.87565,     0.87565,     0.87565,     0.87565,     0.87565,     0.87565,     0.87565,     0.87565,\n",
       "            0.87565,     0.87565,     0.87535,     0.87491,     0.87447,     0.87403,      0.8736,     0.87316,     0.87272,     0.87228,     0.87185,     0.87141,     0.87097,     0.87053,     0.87047,     0.87047,     0.87047,     0.87047,     0.87047,     0.87047,     0.87047,     0.87047,     0.87047,\n",
       "            0.87047,        0.87,     0.86919,     0.86838,     0.86757,     0.86676,     0.86594,     0.86519,      0.8647,      0.8642,     0.86371,     0.86322,     0.86272,     0.86223,     0.86174,     0.86124,     0.86075,     0.86025,     0.85929,     0.85813,     0.85696,      0.8558,     0.85492,\n",
       "            0.85492,     0.85492,     0.85492,     0.85492,     0.85492,     0.85492,     0.85492,     0.85492,     0.85492,     0.85492,     0.85492,     0.85492,     0.85492,     0.85492,     0.85492,     0.85492,     0.85492,     0.85492,     0.85492,     0.85492,     0.85492,     0.85492,     0.85492,\n",
       "            0.85492,     0.85492,     0.85492,     0.85492,     0.85492,     0.85492,     0.85492,     0.85492,     0.85492,     0.85492,     0.85492,     0.85492,     0.85492,     0.85492,     0.85492,     0.85492,     0.85492,     0.85492,     0.85492,     0.85492,     0.85492,     0.85492,     0.85492,\n",
       "            0.85492,     0.85492,     0.85492,     0.85492,     0.85492,     0.85492,     0.85492,     0.85492,      0.8549,     0.85483,     0.85476,     0.85469,     0.85462,     0.85455,     0.85448,     0.85441,     0.85434,     0.85427,      0.8542,     0.85413,     0.85406,     0.85399,     0.85392,\n",
       "            0.85385,     0.85378,     0.85371,     0.85364,     0.85357,      0.8535,     0.85343,     0.85336,     0.85329,     0.85322,     0.85315,     0.85308,     0.85301,     0.85294,     0.85287,      0.8528,     0.85273,     0.85266,     0.85259,     0.85252,     0.85245,     0.85238,     0.85231,\n",
       "            0.85224,     0.85217,      0.8521,     0.85203,     0.85196,     0.85189,     0.85182,     0.85175,     0.85168,     0.85161,     0.85154,     0.85147,      0.8514,     0.85133,     0.85126,     0.85119,     0.85112,     0.85105,     0.85098,     0.85091,     0.85084,     0.85077,      0.8507,\n",
       "            0.85063,     0.85056,     0.85049,     0.85042,     0.85035,     0.85028,     0.85021,     0.85014,     0.85007,        0.85,     0.84993,     0.84986,     0.84979,     0.84958,     0.84893,     0.84828,     0.84763,     0.84698,     0.84633,     0.84568,     0.84503,     0.84456,     0.84456,\n",
       "            0.84456,     0.84456,     0.84456,     0.84456,     0.84456,     0.84456,     0.84456,     0.84456,     0.84456,     0.84456,     0.84456,     0.84456,     0.84456,     0.84456,     0.84456,     0.84456,     0.84456,     0.84456,     0.84364,     0.84259,     0.84153,     0.84048,     0.83942,\n",
       "            0.83436,      0.8342,     0.83409,     0.83389,     0.83369,     0.83349,     0.83329,     0.83309,     0.83289,     0.83269,     0.83249,     0.83228,     0.83208,     0.83188,     0.83168,     0.83148,     0.83128,     0.83108,     0.83088,     0.83068,     0.83048,     0.83028,     0.83008,\n",
       "            0.82988,     0.82968,     0.82948,     0.82928,     0.82908,     0.82831,     0.82725,     0.82619,     0.82513,     0.82407,     0.82383,     0.82383,     0.82383,     0.82383,     0.82383,     0.82383,     0.82383,     0.82383,     0.82383,     0.82383,     0.82383,     0.82383,      0.8234,\n",
       "            0.82257,     0.82173,      0.8209,     0.82006,     0.81923,      0.8183,     0.81717,     0.81604,     0.81491,     0.81378,      0.8131,     0.81258,     0.81206,     0.81154,     0.81102,      0.8105,     0.80998,     0.80946,     0.80894,     0.80842,     0.80829,     0.80829,     0.80829,\n",
       "            0.80829,     0.80511,     0.80278,      0.8022,     0.80161,     0.80103,     0.80045,     0.79986,     0.79928,      0.7987,     0.79811,     0.79793,     0.79793,     0.79793,     0.79776,      0.7974,     0.79703,     0.79667,     0.79631,     0.79595,     0.79558,     0.79522,     0.79486,\n",
       "             0.7945,     0.79413,     0.79377,     0.79341,     0.79305,     0.79259,     0.79171,     0.79083,     0.78994,     0.78906,     0.78818,     0.78695,     0.78494,     0.78292,     0.77706,      0.7768,     0.77654,     0.77627,     0.77601,     0.77575,     0.77549,     0.77523,     0.77497,\n",
       "            0.77471,     0.77445,     0.77419,     0.77392,     0.77366,      0.7734,     0.77314,     0.77288,     0.77262,     0.77236,      0.7721,      0.7698,     0.76682,     0.76644,     0.76607,      0.7657,     0.76532,     0.76495,     0.76458,      0.7642,     0.76383,     0.76346,     0.76308,\n",
       "            0.76271,     0.76234,     0.76196,     0.76136,     0.75975,     0.75813,     0.75651,     0.75618,     0.75512,     0.75406,       0.753,     0.75194,     0.75061,     0.74885,     0.74709,      0.7456,     0.74445,      0.7433,     0.74215,     0.74099,     0.74002,     0.73759,     0.73549,\n",
       "            0.73442,     0.73336,     0.73229,     0.73123,     0.73052,     0.72994,     0.72936,     0.72878,     0.72821,     0.72763,     0.72705,     0.72647,      0.7259,     0.72496,     0.72148,     0.71946,     0.71828,      0.7171,     0.71592,     0.71447,     0.71214,     0.70976,     0.70371,\n",
       "            0.69718,     0.68818,     0.68559,     0.67767,     0.67457,     0.66903,     0.66299,     0.65854,     0.64984,     0.64767,     0.64651,     0.64361,     0.64196,     0.64109,     0.64022,     0.63936,     0.63849,     0.63763,     0.62875,     0.61002,     0.60507,     0.60374,     0.60241,\n",
       "            0.60107,     0.59747,      0.5927,     0.57858,     0.56904,     0.56237,      0.5562,     0.55151,     0.54702,     0.53612,     0.52566,     0.52048,     0.51119,     0.49962,     0.49009,     0.48706,       0.484,     0.47921,     0.47056,     0.45559,     0.45349,     0.45138,     0.44221,\n",
       "            0.43858,     0.43595,     0.42198,     0.41301,     0.40263,     0.39558,      0.3905,     0.38248,     0.36241,     0.35767,     0.34164,     0.33825,     0.32565,     0.32032,     0.29491,     0.27908,     0.25888,     0.24973,     0.22658,     0.21217,     0.20371,      0.1865,     0.18149,\n",
       "            0.17814,     0.16822,     0.14509,     0.14099,     0.12551,     0.10257,    0.098797,    0.084314,    0.067489,    0.058369,    0.053351,    0.046069,    0.044723,    0.043376,     0.04203,    0.035931,    0.029826,    0.027893,     0.02596,    0.015245,   0.0096213,    0.007323,           0,\n",
       "                  0,           0,           0,           0,           0,           0,           0,           0,           0,           0,           0]]), 'Confidence', 'Recall']]\n",
       "fitness: 0.7922693393211353\n",
       "keys: ['metrics/precision(B)', 'metrics/recall(B)', 'metrics/mAP50(B)', 'metrics/mAP50-95(B)']\n",
       "maps: array([    0.77645,     0.77645])\n",
       "names: {0: 'can', 1: 'metal-can'}\n",
       "plot: True\n",
       "results_dict: {'metrics/precision(B)': 0.9427406140382376, 'metrics/recall(B)': 0.8530837810696034, 'metrics/mAP50(B)': 0.9346463230818821, 'metrics/mAP50-95(B)': 0.7764496744588301, 'fitness': 0.7922693393211353}\n",
       "save_dir: PosixPath('runs/detect/train2')\n",
       "speed: {'preprocess': 1.1942112185424294, 'inference': 61.794192655640735, 'loss': 7.640396357384442e-05, 'postprocess': 1.2986804900623645}\n",
       "task: 'detect'"
      ]
     },
     "execution_count": 8,
     "metadata": {},
     "output_type": "execute_result"
    }
   ],
   "source": [
    "import ultralytics\n",
    "\n",
    "model = ultralytics.YOLO(\"yolo11n.pt\")\n",
    "model.train(data=\"/home/kim/rokey_ws/src/first_pjt/Tutorial/OD_Tutorial/datasets/data.yaml\", epochs=10, imgsz=640, batch=16)"
   ]
  },
  {
   "cell_type": "code",
   "execution_count": null,
   "metadata": {},
   "outputs": [],
   "source": []
  }
 ],
 "metadata": {
  "kernelspec": {
   "display_name": "usr",
   "language": "python",
   "name": "python3"
  },
  "language_info": {
   "codemirror_mode": {
    "name": "ipython",
    "version": 3
   },
   "file_extension": ".py",
   "mimetype": "text/x-python",
   "name": "python",
   "nbconvert_exporter": "python",
   "pygments_lexer": "ipython3",
   "version": "3.10.12"
  }
 },
 "nbformat": 4,
 "nbformat_minor": 2
}
