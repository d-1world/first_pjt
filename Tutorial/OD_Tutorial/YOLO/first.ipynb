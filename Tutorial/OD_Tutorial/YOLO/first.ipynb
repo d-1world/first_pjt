{
 "cells": [
  {
   "cell_type": "code",
   "execution_count": 2,
   "id": "90e6b9c9",
   "metadata": {},
   "outputs": [
    {
     "name": "stdout",
     "output_type": "stream",
     "text": [
      "JSONDict(\"/home/rokey/.config/Ultralytics/settings.json\"):\n",
      "{\n",
      "  \"settings_version\": \"0.0.6\",\n",
      "  \"datasets_dir\": \"/home/rokey/rokey_ws/src/yolov8_ros/yolov8_ros/datasets\",\n",
      "  \"weights_dir\": \"weights\",\n",
      "  \"runs_dir\": \"runs\",\n",
      "  \"uuid\": \"844c0ffdbb1a633c5e288a0559d69f3623b0d91b747a06bdc74c180e406b5aa1\",\n",
      "  \"sync\": true,\n",
      "  \"api_key\": \"\",\n",
      "  \"openai_api_key\": \"\",\n",
      "  \"clearml\": true,\n",
      "  \"comet\": true,\n",
      "  \"dvc\": true,\n",
      "  \"hub\": true,\n",
      "  \"mlflow\": true,\n",
      "  \"neptune\": true,\n",
      "  \"raytune\": true,\n",
      "  \"tensorboard\": false,\n",
      "  \"wandb\": false,\n",
      "  \"vscode_msg\": true\n",
      "}\n"
     ]
    }
   ],
   "source": [
    "from ultralytics import settings\n",
    "\n",
    "print(settings)"
   ]
  },
  {
   "cell_type": "code",
   "execution_count": 3,
   "id": "61bd64ad",
   "metadata": {},
   "outputs": [
    {
     "name": "stdout",
     "output_type": "stream",
     "text": [
      "/home/rokey/r2_ws/src/first_pjt/Tutorial/OD_Tutorial/datasets\n"
     ]
    }
   ],
   "source": [
    "settings.update({\"datasets_dir\": \"/home/rokey/r2_ws/src/first_pjt/Tutorial/OD_Tutorial/datasets\"})\n",
    "print(settings[\"datasets_dir\"])"
   ]
  },
  {
   "cell_type": "code",
   "execution_count": 4,
   "id": "33fa8eab",
   "metadata": {},
   "outputs": [],
   "source": [
    "settings.reset()"
   ]
  }
 ],
 "metadata": {
  "kernelspec": {
   "display_name": "Python 3",
   "language": "python",
   "name": "python3"
  },
  "language_info": {
   "codemirror_mode": {
    "name": "ipython",
    "version": 3
   },
   "file_extension": ".py",
   "mimetype": "text/x-python",
   "name": "python",
   "nbconvert_exporter": "python",
   "pygments_lexer": "ipython3",
   "version": "3.10.12"
  }
 },
 "nbformat": 4,
 "nbformat_minor": 5
}
