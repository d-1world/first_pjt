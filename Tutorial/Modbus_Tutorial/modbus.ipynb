{
 "cells": [
  {
   "cell_type": "code",
   "execution_count": 2,
   "id": "fd13d3ee",
   "metadata": {},
   "outputs": [],
   "source": [
    "import time\n",
    "from onrobot import RG\n",
    "\n",
    "GRIPPER_NAME = \"rg2\"\n",
    "TOOLCHARGER_IP = \"192.168.1.1\"\n",
    "TOOLCHARGER_PORT = \"502\"\n",
    "\n",
    "gripper = RG(GRIPPER_NAME, TOOLCHARGER_IP, TOOLCHARGER_PORT)"
   ]
  },
  {
   "cell_type": "code",
   "execution_count": 96,
   "id": "3f51f04d",
   "metadata": {},
   "outputs": [
    {
     "name": "stdout",
     "output_type": "stream",
     "text": [
      "Start opening gripper.\n"
     ]
    }
   ],
   "source": [
    "gripper.open_gripper()"
   ]
  },
  {
   "cell_type": "code",
   "execution_count": 95,
   "id": "fc1bcdda",
   "metadata": {},
   "outputs": [
    {
     "name": "stdout",
     "output_type": "stream",
     "text": [
      "Start closing gripper.\n"
     ]
    }
   ],
   "source": [
    "gripper.close_gripper()"
   ]
  },
  {
   "cell_type": "code",
   "execution_count": null,
   "id": "67a62e44",
   "metadata": {},
   "outputs": [
    {
     "name": "stdout",
     "output_type": "stream",
     "text": [
      "Start moving gripper.\n"
     ]
    }
   ],
   "source": [
    "# 단위 0.1 mm\n",
    "gripper.move_gripper(0)"
   ]
  },
  {
   "cell_type": "code",
   "execution_count": 90,
   "id": "5e88d321",
   "metadata": {},
   "outputs": [
    {
     "data": {
      "text/plain": [
       "[0, 0, 0, 0, 0, 0, 0]"
      ]
     },
     "execution_count": 90,
     "metadata": {},
     "output_type": "execute_result"
    }
   ],
   "source": [
    "gripper.get_status()"
   ]
  },
  {
   "cell_type": "code",
   "execution_count": 97,
   "id": "18686df6",
   "metadata": {},
   "outputs": [
    {
     "name": "stdout",
     "output_type": "stream",
     "text": [
      "Start opening gripper.\n",
      "Start closing gripper.\n",
      "A motion is ongoing so new commands are not accepted.\n",
      "A motion is ongoing so new commands are not accepted.\n",
      "A motion is ongoing so new commands are not accepted.\n",
      "An internal- or external grip is detected.\n"
     ]
    }
   ],
   "source": [
    "gripper.open_gripper()\n",
    "gripper.close_gripper()\n",
    "\n",
    "while gripper.get_status()[0]:\n",
    "    time.sleep(0.5)"
   ]
  }
 ],
 "metadata": {
  "kernelspec": {
   "display_name": "Python 3",
   "language": "python",
   "name": "python3"
  },
  "language_info": {
   "codemirror_mode": {
    "name": "ipython",
    "version": 3
   },
   "file_extension": ".py",
   "mimetype": "text/x-python",
   "name": "python",
   "nbconvert_exporter": "python",
   "pygments_lexer": "ipython3",
   "version": "3.10.12"
  }
 },
 "nbformat": 4,
 "nbformat_minor": 5
}
